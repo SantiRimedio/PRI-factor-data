{
 "cells": [
  {
   "cell_type": "code",
   "execution_count": 123,
   "outputs": [],
   "source": [
    "import pandas as pd\n",
    "import re\n",
    "import numpy as np"
   ],
   "metadata": {
    "collapsed": false,
    "ExecuteTime": {
     "end_time": "2023-10-24T22:18:30.192226900Z",
     "start_time": "2023-10-24T22:18:30.180228100Z"
    }
   }
  },
  {
   "cell_type": "code",
   "execution_count": 124,
   "outputs": [
    {
     "data": {
      "text/plain": "      Unnamed: 0                               Artist               Artist_ID  \\\n0              0                       Gustavo Cerati  1QOmebWGB6FdFtW7Bo3F0W   \n1              0                       Gustavo Cerati  1QOmebWGB6FdFtW7Bo3F0W   \n2              0                       Gustavo Cerati  1QOmebWGB6FdFtW7Bo3F0W   \n3              0                       Gustavo Cerati  1QOmebWGB6FdFtW7Bo3F0W   \n4              0                       Gustavo Cerati  1QOmebWGB6FdFtW7Bo3F0W   \n...          ...                                  ...                     ...   \n4322          99  El General Paz & La Triple Frontera  2OXcnoIOjCGuv9WmCblxuB   \n4323          99  El General Paz & La Triple Frontera  2OXcnoIOjCGuv9WmCblxuB   \n4324          99  El General Paz & La Triple Frontera  2OXcnoIOjCGuv9WmCblxuB   \n4325          99  El General Paz & La Triple Frontera  2OXcnoIOjCGuv9WmCblxuB   \n4326          99  El General Paz & La Triple Frontera  2OXcnoIOjCGuv9WmCblxuB   \n\n                                          Artist_genres  Artist_popularity  \\\n0     ['argentine rock', 'latin alternative', 'latin...                 70   \n1     ['argentine rock', 'latin alternative', 'latin...                 70   \n2     ['argentine rock', 'latin alternative', 'latin...                 70   \n3     ['argentine rock', 'latin alternative', 'latin...                 70   \n4     ['argentine rock', 'latin alternative', 'latin...                 70   \n...                                                 ...                ...   \n4322                                                 []                 28   \n4323                                                 []                 28   \n4324                                                 []                 28   \n4325                                                 []                 28   \n4326                                                 []                 28   \n\n                                      Track                Track_ID  \\\n0                                    Crimen  3oqWr0jDWNXxWufNogGREp   \n1                                    Puente  6gwaa6ElIixNTvu6RwkMyo   \n2                                     Adiós  1rh4kDY9T4fHVDum8Foi5k   \n3                                  Bocanada  12uaDRCVrgu4O6AyOZLrxG   \n4                          Lago en el Cielo  17eJyYLIlMNlOqcwHYJ9F2   \n...                                     ...                     ...   \n4322  Errar Es Inhumano (Versión Videoclip)  1XqLDOzkjE67ZPz6tPxBkC   \n4323    Una Flor De Lis (Versión Videoclip)  6iEgneUcMV2LQe55moIGIo   \n4324        Carnavalero (Versión Videoclip)  3H8thgfMbsRxb67VilEDFu   \n4325                             Maravillas  2SH2yWJ6TJZ6ZhYJ7GFExi   \n4326                            A Tu Mirada  6Owhvz0MTNJm0A12Ni1pKj   \n\n     Track_release_date  Track_popularity  \\\n0            2006-04-04              75.0   \n1            1999-06-01              71.0   \n2            2006-04-04              73.0   \n3            1999-06-01              64.0   \n4            2006-04-04              68.0   \n...                 ...               ...   \n4322               2010               0.0   \n4323               2016               0.0   \n4324               2009               0.0   \n4325               2013               1.0   \n4326               2013               0.0   \n\n                                                 Lyrics  \\\n0     22 ContributorsCrimen Lyrics[Letra de \"Crimen\"...   \n1     25 ContributorsTranslationsEnglishPuente Lyric...   \n2     16 ContributorsAdiós Lyrics[Letra de \"Adiós\"]\\...   \n3     14 ContributorsBocanada Lyrics[Letra de \"Bocan...   \n4     15 ContributorsLago en el Cielo Lyrics[Letra d...   \n...                                                 ...   \n4322                                                NaN   \n4323                                                NaN   \n4324                                                NaN   \n4325                                                NaN   \n4326  3 ContributorsDenuncia Nisman LyricsFORMULA DE...   \n\n                                          features_dict  \n0                                                   NaN  \n1                                                   NaN  \n2     {'danceability': 0.495, 'energy': 0.596, 'key'...  \n3     {'danceability': 0.47, 'energy': 0.575, 'key':...  \n4     {'danceability': 0.539, 'energy': 0.833, 'key'...  \n...                                                 ...  \n4322  {'danceability': 0.437, 'energy': 0.648, 'key'...  \n4323  {'danceability': 0.716, 'energy': 0.863, 'key'...  \n4324  {'danceability': 0.672, 'energy': 0.942, 'key'...  \n4325  {'danceability': 0.26, 'energy': 0.964, 'key':...  \n4326  {'danceability': 0.325, 'energy': 0.807, 'key'...  \n\n[4327 rows x 11 columns]",
      "text/html": "<div>\n<style scoped>\n    .dataframe tbody tr th:only-of-type {\n        vertical-align: middle;\n    }\n\n    .dataframe tbody tr th {\n        vertical-align: top;\n    }\n\n    .dataframe thead th {\n        text-align: right;\n    }\n</style>\n<table border=\"1\" class=\"dataframe\">\n  <thead>\n    <tr style=\"text-align: right;\">\n      <th></th>\n      <th>Unnamed: 0</th>\n      <th>Artist</th>\n      <th>Artist_ID</th>\n      <th>Artist_genres</th>\n      <th>Artist_popularity</th>\n      <th>Track</th>\n      <th>Track_ID</th>\n      <th>Track_release_date</th>\n      <th>Track_popularity</th>\n      <th>Lyrics</th>\n      <th>features_dict</th>\n    </tr>\n  </thead>\n  <tbody>\n    <tr>\n      <th>0</th>\n      <td>0</td>\n      <td>Gustavo Cerati</td>\n      <td>1QOmebWGB6FdFtW7Bo3F0W</td>\n      <td>['argentine rock', 'latin alternative', 'latin...</td>\n      <td>70</td>\n      <td>Crimen</td>\n      <td>3oqWr0jDWNXxWufNogGREp</td>\n      <td>2006-04-04</td>\n      <td>75.0</td>\n      <td>22 ContributorsCrimen Lyrics[Letra de \"Crimen\"...</td>\n      <td>NaN</td>\n    </tr>\n    <tr>\n      <th>1</th>\n      <td>0</td>\n      <td>Gustavo Cerati</td>\n      <td>1QOmebWGB6FdFtW7Bo3F0W</td>\n      <td>['argentine rock', 'latin alternative', 'latin...</td>\n      <td>70</td>\n      <td>Puente</td>\n      <td>6gwaa6ElIixNTvu6RwkMyo</td>\n      <td>1999-06-01</td>\n      <td>71.0</td>\n      <td>25 ContributorsTranslationsEnglishPuente Lyric...</td>\n      <td>NaN</td>\n    </tr>\n    <tr>\n      <th>2</th>\n      <td>0</td>\n      <td>Gustavo Cerati</td>\n      <td>1QOmebWGB6FdFtW7Bo3F0W</td>\n      <td>['argentine rock', 'latin alternative', 'latin...</td>\n      <td>70</td>\n      <td>Adiós</td>\n      <td>1rh4kDY9T4fHVDum8Foi5k</td>\n      <td>2006-04-04</td>\n      <td>73.0</td>\n      <td>16 ContributorsAdiós Lyrics[Letra de \"Adiós\"]\\...</td>\n      <td>{'danceability': 0.495, 'energy': 0.596, 'key'...</td>\n    </tr>\n    <tr>\n      <th>3</th>\n      <td>0</td>\n      <td>Gustavo Cerati</td>\n      <td>1QOmebWGB6FdFtW7Bo3F0W</td>\n      <td>['argentine rock', 'latin alternative', 'latin...</td>\n      <td>70</td>\n      <td>Bocanada</td>\n      <td>12uaDRCVrgu4O6AyOZLrxG</td>\n      <td>1999-06-01</td>\n      <td>64.0</td>\n      <td>14 ContributorsBocanada Lyrics[Letra de \"Bocan...</td>\n      <td>{'danceability': 0.47, 'energy': 0.575, 'key':...</td>\n    </tr>\n    <tr>\n      <th>4</th>\n      <td>0</td>\n      <td>Gustavo Cerati</td>\n      <td>1QOmebWGB6FdFtW7Bo3F0W</td>\n      <td>['argentine rock', 'latin alternative', 'latin...</td>\n      <td>70</td>\n      <td>Lago en el Cielo</td>\n      <td>17eJyYLIlMNlOqcwHYJ9F2</td>\n      <td>2006-04-04</td>\n      <td>68.0</td>\n      <td>15 ContributorsLago en el Cielo Lyrics[Letra d...</td>\n      <td>{'danceability': 0.539, 'energy': 0.833, 'key'...</td>\n    </tr>\n    <tr>\n      <th>...</th>\n      <td>...</td>\n      <td>...</td>\n      <td>...</td>\n      <td>...</td>\n      <td>...</td>\n      <td>...</td>\n      <td>...</td>\n      <td>...</td>\n      <td>...</td>\n      <td>...</td>\n      <td>...</td>\n    </tr>\n    <tr>\n      <th>4322</th>\n      <td>99</td>\n      <td>El General Paz &amp; La Triple Frontera</td>\n      <td>2OXcnoIOjCGuv9WmCblxuB</td>\n      <td>[]</td>\n      <td>28</td>\n      <td>Errar Es Inhumano (Versión Videoclip)</td>\n      <td>1XqLDOzkjE67ZPz6tPxBkC</td>\n      <td>2010</td>\n      <td>0.0</td>\n      <td>NaN</td>\n      <td>{'danceability': 0.437, 'energy': 0.648, 'key'...</td>\n    </tr>\n    <tr>\n      <th>4323</th>\n      <td>99</td>\n      <td>El General Paz &amp; La Triple Frontera</td>\n      <td>2OXcnoIOjCGuv9WmCblxuB</td>\n      <td>[]</td>\n      <td>28</td>\n      <td>Una Flor De Lis (Versión Videoclip)</td>\n      <td>6iEgneUcMV2LQe55moIGIo</td>\n      <td>2016</td>\n      <td>0.0</td>\n      <td>NaN</td>\n      <td>{'danceability': 0.716, 'energy': 0.863, 'key'...</td>\n    </tr>\n    <tr>\n      <th>4324</th>\n      <td>99</td>\n      <td>El General Paz &amp; La Triple Frontera</td>\n      <td>2OXcnoIOjCGuv9WmCblxuB</td>\n      <td>[]</td>\n      <td>28</td>\n      <td>Carnavalero (Versión Videoclip)</td>\n      <td>3H8thgfMbsRxb67VilEDFu</td>\n      <td>2009</td>\n      <td>0.0</td>\n      <td>NaN</td>\n      <td>{'danceability': 0.672, 'energy': 0.942, 'key'...</td>\n    </tr>\n    <tr>\n      <th>4325</th>\n      <td>99</td>\n      <td>El General Paz &amp; La Triple Frontera</td>\n      <td>2OXcnoIOjCGuv9WmCblxuB</td>\n      <td>[]</td>\n      <td>28</td>\n      <td>Maravillas</td>\n      <td>2SH2yWJ6TJZ6ZhYJ7GFExi</td>\n      <td>2013</td>\n      <td>1.0</td>\n      <td>NaN</td>\n      <td>{'danceability': 0.26, 'energy': 0.964, 'key':...</td>\n    </tr>\n    <tr>\n      <th>4326</th>\n      <td>99</td>\n      <td>El General Paz &amp; La Triple Frontera</td>\n      <td>2OXcnoIOjCGuv9WmCblxuB</td>\n      <td>[]</td>\n      <td>28</td>\n      <td>A Tu Mirada</td>\n      <td>6Owhvz0MTNJm0A12Ni1pKj</td>\n      <td>2013</td>\n      <td>0.0</td>\n      <td>3 ContributorsDenuncia Nisman LyricsFORMULA DE...</td>\n      <td>{'danceability': 0.325, 'energy': 0.807, 'key'...</td>\n    </tr>\n  </tbody>\n</table>\n<p>4327 rows × 11 columns</p>\n</div>"
     },
     "execution_count": 124,
     "metadata": {},
     "output_type": "execute_result"
    }
   ],
   "source": [
    "df = pd.read_csv(r\"C:\\Users\\nunez\\Facultad\\Factor Data\\Proyecto NLP canciones\\Datasets Scrapeados\\Rock_Nacional.csv\")\n",
    "df"
   ],
   "metadata": {
    "collapsed": false,
    "ExecuteTime": {
     "end_time": "2023-10-24T22:18:30.727226800Z",
     "start_time": "2023-10-24T22:18:30.186227800Z"
    }
   }
  },
  {
   "cell_type": "code",
   "execution_count": 125,
   "outputs": [
    {
     "data": {
      "text/plain": "      Unnamed: 0          Artist               Artist_ID  \\\n0              0  Gustavo Cerati  1QOmebWGB6FdFtW7Bo3F0W   \n1              0  Gustavo Cerati  1QOmebWGB6FdFtW7Bo3F0W   \n2              0  Gustavo Cerati  1QOmebWGB6FdFtW7Bo3F0W   \n3              0  Gustavo Cerati  1QOmebWGB6FdFtW7Bo3F0W   \n4              0  Gustavo Cerati  1QOmebWGB6FdFtW7Bo3F0W   \n...          ...             ...                     ...   \n3994          86     Dread Mar I  1aw0Cdl1DIrtUrUA6fGbAR   \n3995          86     Dread Mar I  1aw0Cdl1DIrtUrUA6fGbAR   \n3996          86     Dread Mar I  1aw0Cdl1DIrtUrUA6fGbAR   \n3997          86     Dread Mar I  1aw0Cdl1DIrtUrUA6fGbAR   \n3998          86     Dread Mar I  1aw0Cdl1DIrtUrUA6fGbAR   \n\n                                          Artist_genres  Artist_popularity  \\\n0     ['argentine rock', 'latin alternative', 'latin...                 70   \n1     ['argentine rock', 'latin alternative', 'latin...                 70   \n2     ['argentine rock', 'latin alternative', 'latin...                 70   \n3     ['argentine rock', 'latin alternative', 'latin...                 70   \n4     ['argentine rock', 'latin alternative', 'latin...                 70   \n...                                                 ...                ...   \n3994  ['argentine reggae', 'latin alternative', 'roc...                 69   \n3995  ['argentine reggae', 'latin alternative', 'roc...                 69   \n3996  ['argentine reggae', 'latin alternative', 'roc...                 69   \n3997  ['argentine reggae', 'latin alternative', 'roc...                 69   \n3998  ['argentine reggae', 'latin alternative', 'roc...                 69   \n\n                    Track                Track_ID Track_release_date  \\\n0                  Crimen  3oqWr0jDWNXxWufNogGREp         2006-04-04   \n1                  Puente  6gwaa6ElIixNTvu6RwkMyo         1999-06-01   \n2                   Adiós  1rh4kDY9T4fHVDum8Foi5k         2006-04-04   \n3                Bocanada  12uaDRCVrgu4O6AyOZLrxG         1999-06-01   \n4        Lago en el Cielo  17eJyYLIlMNlOqcwHYJ9F2         2006-04-04   \n...                   ...                     ...                ...   \n3994      Otoño - En Vivo  2BOhm1YiL4UbVpLHulm3Fp         2016-05-06   \n3995               Hablan  3aazT0KqFmg8kkJCmXqDJV         2007-05-01   \n3996    Sálvame - En Vivo  49bT0U3Ug059MXsBYrUWda         2016-05-06   \n3997  Tu Sin Mi - En Vivo  6RcII8epzXd254KF82RhAp         2016-05-06   \n3998    Mi Amor - En Vivo  2A4A4iW4B3yoxkrgfXqtec         2016-05-06   \n\n      Track_popularity                                             Lyrics  \\\n0                 75.0     la espera me agotó no sé nada de vos dejast...   \n1                 71.0     hoy te busqué en la rima que duerme con tod...   \n2                 73.0     suspiraban lo mismo los dos y hoy son parte...   \n3                 64.0     cuando no hay más que decirnos habla el hum...   \n4                 68.0     un lago en el cielo quiero ser suave para e...   \n...                ...                                                ...   \n3994              46.0  do  remember when in winter we reached the isl...   \n3995              46.0  ohhhh na na na na na na nananananana eiiieee c...   \n3996              47.0   lyrics te convertí en una reina pa cualquier ...   \n3997              45.0     yeah yeah yeah vine a romper un beat que pu...   \n3998              46.0     me gustas tú me gusta la lluvia me gustas t...   \n\n                                          features_dict  \n0                                                   NaN  \n1                                                   NaN  \n2     {'danceability': 0.495, 'energy': 0.596, 'key'...  \n3     {'danceability': 0.47, 'energy': 0.575, 'key':...  \n4     {'danceability': 0.539, 'energy': 0.833, 'key'...  \n...                                                 ...  \n3994  {'danceability': 0.547, 'energy': 0.838, 'key'...  \n3995  {'danceability': 0.773, 'energy': 0.412, 'key'...  \n3996  {'danceability': 0.562, 'energy': 0.742, 'key'...  \n3997  {'danceability': 0.578, 'energy': 0.689, 'key'...  \n3998  {'danceability': 0.372, 'energy': 0.672, 'key'...  \n\n[2569 rows x 11 columns]",
      "text/html": "<div>\n<style scoped>\n    .dataframe tbody tr th:only-of-type {\n        vertical-align: middle;\n    }\n\n    .dataframe tbody tr th {\n        vertical-align: top;\n    }\n\n    .dataframe thead th {\n        text-align: right;\n    }\n</style>\n<table border=\"1\" class=\"dataframe\">\n  <thead>\n    <tr style=\"text-align: right;\">\n      <th></th>\n      <th>Unnamed: 0</th>\n      <th>Artist</th>\n      <th>Artist_ID</th>\n      <th>Artist_genres</th>\n      <th>Artist_popularity</th>\n      <th>Track</th>\n      <th>Track_ID</th>\n      <th>Track_release_date</th>\n      <th>Track_popularity</th>\n      <th>Lyrics</th>\n      <th>features_dict</th>\n    </tr>\n  </thead>\n  <tbody>\n    <tr>\n      <th>0</th>\n      <td>0</td>\n      <td>Gustavo Cerati</td>\n      <td>1QOmebWGB6FdFtW7Bo3F0W</td>\n      <td>['argentine rock', 'latin alternative', 'latin...</td>\n      <td>70</td>\n      <td>Crimen</td>\n      <td>3oqWr0jDWNXxWufNogGREp</td>\n      <td>2006-04-04</td>\n      <td>75.0</td>\n      <td>la espera me agotó no sé nada de vos dejast...</td>\n      <td>NaN</td>\n    </tr>\n    <tr>\n      <th>1</th>\n      <td>0</td>\n      <td>Gustavo Cerati</td>\n      <td>1QOmebWGB6FdFtW7Bo3F0W</td>\n      <td>['argentine rock', 'latin alternative', 'latin...</td>\n      <td>70</td>\n      <td>Puente</td>\n      <td>6gwaa6ElIixNTvu6RwkMyo</td>\n      <td>1999-06-01</td>\n      <td>71.0</td>\n      <td>hoy te busqué en la rima que duerme con tod...</td>\n      <td>NaN</td>\n    </tr>\n    <tr>\n      <th>2</th>\n      <td>0</td>\n      <td>Gustavo Cerati</td>\n      <td>1QOmebWGB6FdFtW7Bo3F0W</td>\n      <td>['argentine rock', 'latin alternative', 'latin...</td>\n      <td>70</td>\n      <td>Adiós</td>\n      <td>1rh4kDY9T4fHVDum8Foi5k</td>\n      <td>2006-04-04</td>\n      <td>73.0</td>\n      <td>suspiraban lo mismo los dos y hoy son parte...</td>\n      <td>{'danceability': 0.495, 'energy': 0.596, 'key'...</td>\n    </tr>\n    <tr>\n      <th>3</th>\n      <td>0</td>\n      <td>Gustavo Cerati</td>\n      <td>1QOmebWGB6FdFtW7Bo3F0W</td>\n      <td>['argentine rock', 'latin alternative', 'latin...</td>\n      <td>70</td>\n      <td>Bocanada</td>\n      <td>12uaDRCVrgu4O6AyOZLrxG</td>\n      <td>1999-06-01</td>\n      <td>64.0</td>\n      <td>cuando no hay más que decirnos habla el hum...</td>\n      <td>{'danceability': 0.47, 'energy': 0.575, 'key':...</td>\n    </tr>\n    <tr>\n      <th>4</th>\n      <td>0</td>\n      <td>Gustavo Cerati</td>\n      <td>1QOmebWGB6FdFtW7Bo3F0W</td>\n      <td>['argentine rock', 'latin alternative', 'latin...</td>\n      <td>70</td>\n      <td>Lago en el Cielo</td>\n      <td>17eJyYLIlMNlOqcwHYJ9F2</td>\n      <td>2006-04-04</td>\n      <td>68.0</td>\n      <td>un lago en el cielo quiero ser suave para e...</td>\n      <td>{'danceability': 0.539, 'energy': 0.833, 'key'...</td>\n    </tr>\n    <tr>\n      <th>...</th>\n      <td>...</td>\n      <td>...</td>\n      <td>...</td>\n      <td>...</td>\n      <td>...</td>\n      <td>...</td>\n      <td>...</td>\n      <td>...</td>\n      <td>...</td>\n      <td>...</td>\n      <td>...</td>\n    </tr>\n    <tr>\n      <th>3994</th>\n      <td>86</td>\n      <td>Dread Mar I</td>\n      <td>1aw0Cdl1DIrtUrUA6fGbAR</td>\n      <td>['argentine reggae', 'latin alternative', 'roc...</td>\n      <td>69</td>\n      <td>Otoño - En Vivo</td>\n      <td>2BOhm1YiL4UbVpLHulm3Fp</td>\n      <td>2016-05-06</td>\n      <td>46.0</td>\n      <td>do  remember when in winter we reached the isl...</td>\n      <td>{'danceability': 0.547, 'energy': 0.838, 'key'...</td>\n    </tr>\n    <tr>\n      <th>3995</th>\n      <td>86</td>\n      <td>Dread Mar I</td>\n      <td>1aw0Cdl1DIrtUrUA6fGbAR</td>\n      <td>['argentine reggae', 'latin alternative', 'roc...</td>\n      <td>69</td>\n      <td>Hablan</td>\n      <td>3aazT0KqFmg8kkJCmXqDJV</td>\n      <td>2007-05-01</td>\n      <td>46.0</td>\n      <td>ohhhh na na na na na na nananananana eiiieee c...</td>\n      <td>{'danceability': 0.773, 'energy': 0.412, 'key'...</td>\n    </tr>\n    <tr>\n      <th>3996</th>\n      <td>86</td>\n      <td>Dread Mar I</td>\n      <td>1aw0Cdl1DIrtUrUA6fGbAR</td>\n      <td>['argentine reggae', 'latin alternative', 'roc...</td>\n      <td>69</td>\n      <td>Sálvame - En Vivo</td>\n      <td>49bT0U3Ug059MXsBYrUWda</td>\n      <td>2016-05-06</td>\n      <td>47.0</td>\n      <td>lyrics te convertí en una reina pa cualquier ...</td>\n      <td>{'danceability': 0.562, 'energy': 0.742, 'key'...</td>\n    </tr>\n    <tr>\n      <th>3997</th>\n      <td>86</td>\n      <td>Dread Mar I</td>\n      <td>1aw0Cdl1DIrtUrUA6fGbAR</td>\n      <td>['argentine reggae', 'latin alternative', 'roc...</td>\n      <td>69</td>\n      <td>Tu Sin Mi - En Vivo</td>\n      <td>6RcII8epzXd254KF82RhAp</td>\n      <td>2016-05-06</td>\n      <td>45.0</td>\n      <td>yeah yeah yeah vine a romper un beat que pu...</td>\n      <td>{'danceability': 0.578, 'energy': 0.689, 'key'...</td>\n    </tr>\n    <tr>\n      <th>3998</th>\n      <td>86</td>\n      <td>Dread Mar I</td>\n      <td>1aw0Cdl1DIrtUrUA6fGbAR</td>\n      <td>['argentine reggae', 'latin alternative', 'roc...</td>\n      <td>69</td>\n      <td>Mi Amor - En Vivo</td>\n      <td>2A4A4iW4B3yoxkrgfXqtec</td>\n      <td>2016-05-06</td>\n      <td>46.0</td>\n      <td>me gustas tú me gusta la lluvia me gustas t...</td>\n      <td>{'danceability': 0.372, 'energy': 0.672, 'key'...</td>\n    </tr>\n  </tbody>\n</table>\n<p>2569 rows × 11 columns</p>\n</div>"
     },
     "execution_count": 125,
     "metadata": {},
     "output_type": "execute_result"
    }
   ],
   "source": [
    "## Cleansing\n",
    "df.dropna(subset=\"Lyrics\",inplace=True)\n",
    "def clean(text):\n",
    "    cleaned_text = re.sub(r\"^.*?Lyrics\", \"\", text)\n",
    "    cleaned_text = re.sub(r'\\[.*?\\]', '', cleaned_text)\n",
    "    cleaned_text = re.sub(r'\\([^)]*\\)', '', cleaned_text)\n",
    "    cleaned_text = re.sub(r'\\\\n', ' ', cleaned_text)\n",
    "    cleaned_text = re.sub(r'\\n', ' ', cleaned_text)\n",
    "    cleaned_text = re.sub(r'Embed', '', cleaned_text)\n",
    "    cleaned_text = re.sub(r'[^\\w\\s]', '', cleaned_text)\n",
    "    cleaned_text = re.sub(r'you might also like', '', cleaned_text)\n",
    "    cleaned_text = re.sub(r'you', '', cleaned_text)\n",
    "    cleaned_text = re.sub(r'might', '', cleaned_text)\n",
    "    cleaned_text = re.sub(r'also', '', cleaned_text)\n",
    "    cleaned_text = re.sub(r'like', '', cleaned_text)\n",
    "    cleaned_text = cleaned_text.lower()\n",
    "    return cleaned_text\n",
    "\n",
    "df[\"Lyrics\"] = df[\"Lyrics\"].astype(str).apply(clean)\n",
    "df[\"Artist_genres\"] = df[\"Artist_genres\"].replace(\"[]\",np.nan)\n",
    "df.dropna(subset=\"Artist_genres\",inplace=True)\n",
    "df = df.drop_duplicates(subset=[\"Lyrics\",\"Artist_ID\",\"Track\"])\n",
    "df"
   ],
   "metadata": {
    "collapsed": false,
    "ExecuteTime": {
     "end_time": "2023-10-24T22:18:33.400262500Z",
     "start_time": "2023-10-24T22:18:30.732228500Z"
    }
   }
  },
  {
   "cell_type": "markdown",
   "source": [
    "## Tokenization"
   ],
   "metadata": {
    "collapsed": false
   }
  },
  {
   "cell_type": "markdown",
   "source": [
    "## Word Embeddings con modelo Fine-Tuneado"
   ],
   "metadata": {
    "collapsed": false
   }
  },
  {
   "cell_type": "code",
   "execution_count": 126,
   "outputs": [
    {
     "name": "stderr",
     "output_type": "stream",
     "text": [
      "C:\\Users\\PC\\AppData\\Local\\Temp\\ipykernel_2400\\2829582634.py:72: SettingWithCopyWarning: \n",
      "A value is trying to be set on a copy of a slice from a DataFrame.\n",
      "Try using .loc[row_indexer,col_indexer] = value instead\n",
      "\n",
      "See the caveats in the documentation: https://pandas.pydata.org/pandas-docs/stable/user_guide/indexing.html#returning-a-view-versus-a-copy\n",
      "  df['word_embeddings'] = all_word_embeddings\n",
      "C:\\Users\\PC\\AppData\\Local\\Temp\\ipykernel_2400\\2829582634.py:73: SettingWithCopyWarning: \n",
      "A value is trying to be set on a copy of a slice from a DataFrame.\n",
      "Try using .loc[row_indexer,col_indexer] = value instead\n",
      "\n",
      "See the caveats in the documentation: https://pandas.pydata.org/pandas-docs/stable/user_guide/indexing.html#returning-a-view-versus-a-copy\n",
      "  df['sentence_embeddings'] = all_mean_pooled_embeddings\n"
     ]
    },
    {
     "data": {
      "text/plain": "      Unnamed: 0          Artist               Artist_ID  \\\n0              0  Gustavo Cerati  1QOmebWGB6FdFtW7Bo3F0W   \n1              0  Gustavo Cerati  1QOmebWGB6FdFtW7Bo3F0W   \n2              0  Gustavo Cerati  1QOmebWGB6FdFtW7Bo3F0W   \n3              0  Gustavo Cerati  1QOmebWGB6FdFtW7Bo3F0W   \n4              0  Gustavo Cerati  1QOmebWGB6FdFtW7Bo3F0W   \n...          ...             ...                     ...   \n3994          86     Dread Mar I  1aw0Cdl1DIrtUrUA6fGbAR   \n3995          86     Dread Mar I  1aw0Cdl1DIrtUrUA6fGbAR   \n3996          86     Dread Mar I  1aw0Cdl1DIrtUrUA6fGbAR   \n3997          86     Dread Mar I  1aw0Cdl1DIrtUrUA6fGbAR   \n3998          86     Dread Mar I  1aw0Cdl1DIrtUrUA6fGbAR   \n\n                                          Artist_genres  Artist_popularity  \\\n0     ['argentine rock', 'latin alternative', 'latin...                 70   \n1     ['argentine rock', 'latin alternative', 'latin...                 70   \n2     ['argentine rock', 'latin alternative', 'latin...                 70   \n3     ['argentine rock', 'latin alternative', 'latin...                 70   \n4     ['argentine rock', 'latin alternative', 'latin...                 70   \n...                                                 ...                ...   \n3994  ['argentine reggae', 'latin alternative', 'roc...                 69   \n3995  ['argentine reggae', 'latin alternative', 'roc...                 69   \n3996  ['argentine reggae', 'latin alternative', 'roc...                 69   \n3997  ['argentine reggae', 'latin alternative', 'roc...                 69   \n3998  ['argentine reggae', 'latin alternative', 'roc...                 69   \n\n                    Track                Track_ID Track_release_date  \\\n0                  Crimen  3oqWr0jDWNXxWufNogGREp         2006-04-04   \n1                  Puente  6gwaa6ElIixNTvu6RwkMyo         1999-06-01   \n2                   Adiós  1rh4kDY9T4fHVDum8Foi5k         2006-04-04   \n3                Bocanada  12uaDRCVrgu4O6AyOZLrxG         1999-06-01   \n4        Lago en el Cielo  17eJyYLIlMNlOqcwHYJ9F2         2006-04-04   \n...                   ...                     ...                ...   \n3994      Otoño - En Vivo  2BOhm1YiL4UbVpLHulm3Fp         2016-05-06   \n3995               Hablan  3aazT0KqFmg8kkJCmXqDJV         2007-05-01   \n3996    Sálvame - En Vivo  49bT0U3Ug059MXsBYrUWda         2016-05-06   \n3997  Tu Sin Mi - En Vivo  6RcII8epzXd254KF82RhAp         2016-05-06   \n3998    Mi Amor - En Vivo  2A4A4iW4B3yoxkrgfXqtec         2016-05-06   \n\n      Track_popularity                                             Lyrics  \\\n0                 75.0     la espera me agotó no sé nada de vos dejast...   \n1                 71.0     hoy te busqué en la rima que duerme con tod...   \n2                 73.0     suspiraban lo mismo los dos y hoy son parte...   \n3                 64.0     cuando no hay más que decirnos habla el hum...   \n4                 68.0     un lago en el cielo quiero ser suave para e...   \n...                ...                                                ...   \n3994              46.0  do  remember when in winter we reached the isl...   \n3995              46.0  ohhhh na na na na na na nananananana eiiieee c...   \n3996              47.0   lyrics te convertí en una reina pa cualquier ...   \n3997              45.0     yeah yeah yeah vine a romper un beat que pu...   \n3998              46.0     me gustas tú me gusta la lluvia me gustas t...   \n\n                                          features_dict  \\\n0                                                   NaN   \n1                                                   NaN   \n2     {'danceability': 0.495, 'energy': 0.596, 'key'...   \n3     {'danceability': 0.47, 'energy': 0.575, 'key':...   \n4     {'danceability': 0.539, 'energy': 0.833, 'key'...   \n...                                                 ...   \n3994  {'danceability': 0.547, 'energy': 0.838, 'key'...   \n3995  {'danceability': 0.773, 'energy': 0.412, 'key'...   \n3996  {'danceability': 0.562, 'energy': 0.742, 'key'...   \n3997  {'danceability': 0.578, 'energy': 0.689, 'key'...   \n3998  {'danceability': 0.372, 'energy': 0.672, 'key'...   \n\n                                        word_embeddings  \\\n0     [[0.58316207, -0.2548763, 0.5817932, -0.552530...   \n1     [[0.27712262, -0.22966349, 0.47557557, -0.7245...   \n2     [[0.3018511, -0.2504684, 0.85548764, -0.462000...   \n3     [[0.31549487, 0.003480405, 0.771458, -0.640106...   \n4     [[0.39435253, -0.1032096, 0.77467644, -0.61168...   \n...                                                 ...   \n3994  [[-0.23152314, -0.31722507, 0.26386377, -0.133...   \n3995  [[0.049501408, -0.28220513, 0.59688103, -0.284...   \n3996  [[0.02281683, -0.26722732, 0.49827793, -0.2618...   \n3997  [[0.17208251, -0.28501275, 0.37805364, -0.3005...   \n3998  [[0.32244074, -0.19547899, 0.46098724, -0.4189...   \n\n                                    sentence_embeddings  \n0     [0.28547838, -0.26778036, 0.41937047, -0.49818...  \n1     [0.00515183, -0.3387311, 0.15613599, -0.549877...  \n2     [0.11681878, -0.19707525, 0.52206975, -0.51238...  \n3     [0.06493681, -0.10558776, 0.33125407, -0.46986...  \n4     [0.10041767, -0.23421776, 0.35507822, -0.58157...  \n...                                                 ...  \n3994  [-0.39417785, -0.40325004, 0.29272616, -0.1176...  \n3995  [0.0776811, -0.34338987, 0.52783954, -0.342638...  \n3996  [-0.072813645, -0.33816, 0.36019236, -0.231474...  \n3997  [0.070230864, -0.35557938, 0.29712877, -0.2836...  \n3998  [0.054034196, -0.16725412, 0.41520548, -0.3811...  \n\n[2569 rows x 13 columns]",
      "text/html": "<div>\n<style scoped>\n    .dataframe tbody tr th:only-of-type {\n        vertical-align: middle;\n    }\n\n    .dataframe tbody tr th {\n        vertical-align: top;\n    }\n\n    .dataframe thead th {\n        text-align: right;\n    }\n</style>\n<table border=\"1\" class=\"dataframe\">\n  <thead>\n    <tr style=\"text-align: right;\">\n      <th></th>\n      <th>Unnamed: 0</th>\n      <th>Artist</th>\n      <th>Artist_ID</th>\n      <th>Artist_genres</th>\n      <th>Artist_popularity</th>\n      <th>Track</th>\n      <th>Track_ID</th>\n      <th>Track_release_date</th>\n      <th>Track_popularity</th>\n      <th>Lyrics</th>\n      <th>features_dict</th>\n      <th>word_embeddings</th>\n      <th>sentence_embeddings</th>\n    </tr>\n  </thead>\n  <tbody>\n    <tr>\n      <th>0</th>\n      <td>0</td>\n      <td>Gustavo Cerati</td>\n      <td>1QOmebWGB6FdFtW7Bo3F0W</td>\n      <td>['argentine rock', 'latin alternative', 'latin...</td>\n      <td>70</td>\n      <td>Crimen</td>\n      <td>3oqWr0jDWNXxWufNogGREp</td>\n      <td>2006-04-04</td>\n      <td>75.0</td>\n      <td>la espera me agotó no sé nada de vos dejast...</td>\n      <td>NaN</td>\n      <td>[[0.58316207, -0.2548763, 0.5817932, -0.552530...</td>\n      <td>[0.28547838, -0.26778036, 0.41937047, -0.49818...</td>\n    </tr>\n    <tr>\n      <th>1</th>\n      <td>0</td>\n      <td>Gustavo Cerati</td>\n      <td>1QOmebWGB6FdFtW7Bo3F0W</td>\n      <td>['argentine rock', 'latin alternative', 'latin...</td>\n      <td>70</td>\n      <td>Puente</td>\n      <td>6gwaa6ElIixNTvu6RwkMyo</td>\n      <td>1999-06-01</td>\n      <td>71.0</td>\n      <td>hoy te busqué en la rima que duerme con tod...</td>\n      <td>NaN</td>\n      <td>[[0.27712262, -0.22966349, 0.47557557, -0.7245...</td>\n      <td>[0.00515183, -0.3387311, 0.15613599, -0.549877...</td>\n    </tr>\n    <tr>\n      <th>2</th>\n      <td>0</td>\n      <td>Gustavo Cerati</td>\n      <td>1QOmebWGB6FdFtW7Bo3F0W</td>\n      <td>['argentine rock', 'latin alternative', 'latin...</td>\n      <td>70</td>\n      <td>Adiós</td>\n      <td>1rh4kDY9T4fHVDum8Foi5k</td>\n      <td>2006-04-04</td>\n      <td>73.0</td>\n      <td>suspiraban lo mismo los dos y hoy son parte...</td>\n      <td>{'danceability': 0.495, 'energy': 0.596, 'key'...</td>\n      <td>[[0.3018511, -0.2504684, 0.85548764, -0.462000...</td>\n      <td>[0.11681878, -0.19707525, 0.52206975, -0.51238...</td>\n    </tr>\n    <tr>\n      <th>3</th>\n      <td>0</td>\n      <td>Gustavo Cerati</td>\n      <td>1QOmebWGB6FdFtW7Bo3F0W</td>\n      <td>['argentine rock', 'latin alternative', 'latin...</td>\n      <td>70</td>\n      <td>Bocanada</td>\n      <td>12uaDRCVrgu4O6AyOZLrxG</td>\n      <td>1999-06-01</td>\n      <td>64.0</td>\n      <td>cuando no hay más que decirnos habla el hum...</td>\n      <td>{'danceability': 0.47, 'energy': 0.575, 'key':...</td>\n      <td>[[0.31549487, 0.003480405, 0.771458, -0.640106...</td>\n      <td>[0.06493681, -0.10558776, 0.33125407, -0.46986...</td>\n    </tr>\n    <tr>\n      <th>4</th>\n      <td>0</td>\n      <td>Gustavo Cerati</td>\n      <td>1QOmebWGB6FdFtW7Bo3F0W</td>\n      <td>['argentine rock', 'latin alternative', 'latin...</td>\n      <td>70</td>\n      <td>Lago en el Cielo</td>\n      <td>17eJyYLIlMNlOqcwHYJ9F2</td>\n      <td>2006-04-04</td>\n      <td>68.0</td>\n      <td>un lago en el cielo quiero ser suave para e...</td>\n      <td>{'danceability': 0.539, 'energy': 0.833, 'key'...</td>\n      <td>[[0.39435253, -0.1032096, 0.77467644, -0.61168...</td>\n      <td>[0.10041767, -0.23421776, 0.35507822, -0.58157...</td>\n    </tr>\n    <tr>\n      <th>...</th>\n      <td>...</td>\n      <td>...</td>\n      <td>...</td>\n      <td>...</td>\n      <td>...</td>\n      <td>...</td>\n      <td>...</td>\n      <td>...</td>\n      <td>...</td>\n      <td>...</td>\n      <td>...</td>\n      <td>...</td>\n      <td>...</td>\n    </tr>\n    <tr>\n      <th>3994</th>\n      <td>86</td>\n      <td>Dread Mar I</td>\n      <td>1aw0Cdl1DIrtUrUA6fGbAR</td>\n      <td>['argentine reggae', 'latin alternative', 'roc...</td>\n      <td>69</td>\n      <td>Otoño - En Vivo</td>\n      <td>2BOhm1YiL4UbVpLHulm3Fp</td>\n      <td>2016-05-06</td>\n      <td>46.0</td>\n      <td>do  remember when in winter we reached the isl...</td>\n      <td>{'danceability': 0.547, 'energy': 0.838, 'key'...</td>\n      <td>[[-0.23152314, -0.31722507, 0.26386377, -0.133...</td>\n      <td>[-0.39417785, -0.40325004, 0.29272616, -0.1176...</td>\n    </tr>\n    <tr>\n      <th>3995</th>\n      <td>86</td>\n      <td>Dread Mar I</td>\n      <td>1aw0Cdl1DIrtUrUA6fGbAR</td>\n      <td>['argentine reggae', 'latin alternative', 'roc...</td>\n      <td>69</td>\n      <td>Hablan</td>\n      <td>3aazT0KqFmg8kkJCmXqDJV</td>\n      <td>2007-05-01</td>\n      <td>46.0</td>\n      <td>ohhhh na na na na na na nananananana eiiieee c...</td>\n      <td>{'danceability': 0.773, 'energy': 0.412, 'key'...</td>\n      <td>[[0.049501408, -0.28220513, 0.59688103, -0.284...</td>\n      <td>[0.0776811, -0.34338987, 0.52783954, -0.342638...</td>\n    </tr>\n    <tr>\n      <th>3996</th>\n      <td>86</td>\n      <td>Dread Mar I</td>\n      <td>1aw0Cdl1DIrtUrUA6fGbAR</td>\n      <td>['argentine reggae', 'latin alternative', 'roc...</td>\n      <td>69</td>\n      <td>Sálvame - En Vivo</td>\n      <td>49bT0U3Ug059MXsBYrUWda</td>\n      <td>2016-05-06</td>\n      <td>47.0</td>\n      <td>lyrics te convertí en una reina pa cualquier ...</td>\n      <td>{'danceability': 0.562, 'energy': 0.742, 'key'...</td>\n      <td>[[0.02281683, -0.26722732, 0.49827793, -0.2618...</td>\n      <td>[-0.072813645, -0.33816, 0.36019236, -0.231474...</td>\n    </tr>\n    <tr>\n      <th>3997</th>\n      <td>86</td>\n      <td>Dread Mar I</td>\n      <td>1aw0Cdl1DIrtUrUA6fGbAR</td>\n      <td>['argentine reggae', 'latin alternative', 'roc...</td>\n      <td>69</td>\n      <td>Tu Sin Mi - En Vivo</td>\n      <td>6RcII8epzXd254KF82RhAp</td>\n      <td>2016-05-06</td>\n      <td>45.0</td>\n      <td>yeah yeah yeah vine a romper un beat que pu...</td>\n      <td>{'danceability': 0.578, 'energy': 0.689, 'key'...</td>\n      <td>[[0.17208251, -0.28501275, 0.37805364, -0.3005...</td>\n      <td>[0.070230864, -0.35557938, 0.29712877, -0.2836...</td>\n    </tr>\n    <tr>\n      <th>3998</th>\n      <td>86</td>\n      <td>Dread Mar I</td>\n      <td>1aw0Cdl1DIrtUrUA6fGbAR</td>\n      <td>['argentine reggae', 'latin alternative', 'roc...</td>\n      <td>69</td>\n      <td>Mi Amor - En Vivo</td>\n      <td>2A4A4iW4B3yoxkrgfXqtec</td>\n      <td>2016-05-06</td>\n      <td>46.0</td>\n      <td>me gustas tú me gusta la lluvia me gustas t...</td>\n      <td>{'danceability': 0.372, 'energy': 0.672, 'key'...</td>\n      <td>[[0.32244074, -0.19547899, 0.46098724, -0.4189...</td>\n      <td>[0.054034196, -0.16725412, 0.41520548, -0.3811...</td>\n    </tr>\n  </tbody>\n</table>\n<p>2569 rows × 13 columns</p>\n</div>"
     },
     "execution_count": 126,
     "metadata": {},
     "output_type": "execute_result"
    }
   ],
   "source": [
    "from transformers import DistilBertTokenizer, DistilBertModel\n",
    "import torch\n",
    "from tqdm import tqdm\n",
    "\n",
    "# Load pre-trained BERT model and tokenizer\n",
    "tokenizer = DistilBertTokenizer.from_pretrained('SantiRimedio/distilbert-base-spanish-uncased-finetuned-rock-argentino-factor-data')\n",
    "model = DistilBertModel.from_pretrained('SantiRimedio/distilbert-base-spanish-uncased-finetuned-rock-argentino-factor-data')\n",
    "\n",
    "# Move model to GPU if available\n",
    "device = torch.device(\"cuda\" if torch.cuda.is_available() else \"cpu\")\n",
    "model.to(device)\n",
    "\n",
    "# Sample DataFrame with 10 sentences\n",
    "df\n",
    "\n",
    "# Function to calculate word and sentence embeddings using truncation approach\n",
    "def calculate_embeddings_truncation(text, max_length=512):\n",
    "    # Tokenize and encode the sentence with truncation\n",
    "    inputs = tokenizer(text, return_tensors='pt', padding=True, truncation=True, max_length=max_length)\n",
    "    inputs.to(device)\n",
    "\n",
    "    # Forward pass, get hidden states from BERT model\n",
    "    outputs = model(**inputs)\n",
    "\n",
    "    # Get the hidden states from the model outputs\n",
    "    token_embeddings = outputs.last_hidden_state  # Shape: [batch_size, sequence_length, hidden_size]\n",
    "\n",
    "    # Calculate word embeddings\n",
    "    word_embeddings = token_embeddings.squeeze().detach().cpu().numpy()\n",
    "\n",
    "    # Calculate mean pooling for sentence embedding\n",
    "    mean_pooled_embedding = torch.mean(token_embeddings, dim=1).squeeze().detach().cpu().numpy()\n",
    "\n",
    "    # Get the list of token IDs from the input\n",
    "    token_ids = inputs[\"input_ids\"][0].tolist()\n",
    "\n",
    "    # Map token IDs to actual tokens using the tokenizer\n",
    "    tokens = tokenizer.convert_ids_to_tokens(token_ids)\n",
    "    #print(tokens)\n",
    "    # Lista de Word Embeddings\n",
    "    word_embeddings_list = []\n",
    "    token_list = []\n",
    "    for i, token in enumerate(tokens):\n",
    "        # Get the corresponding token embedding\n",
    "        token_embedding = token_embeddings[0][i].squeeze().detach().cpu().numpy()\n",
    "        word_embeddings_list.append(token_embedding)\n",
    "        token_list.append(token)\n",
    "\n",
    "    return word_embeddings_list,token_list,mean_pooled_embedding\n",
    "\n",
    "# Initialize empty lists to store the results\n",
    "all_word_embeddings = []\n",
    "all_token_lists = []\n",
    "all_mean_pooled_embeddings = []\n",
    "all_track_ids = []\n",
    "\n",
    "# Iterate through rows in the DataFrame\n",
    "for index, row in tqdm(df.iterrows(), total=len(df), desc=\"Processing Rows\"):\n",
    "    # Calculate embeddings for the current sentence\n",
    "    word_embeddings, token_list, mean_pooled_embedding = calculate_embeddings_truncation(row[\"Lyrics\"])\n",
    "    track_id = row[\"Track_ID\"]\n",
    "\n",
    "    # Append the results to the respective lists\n",
    "    all_word_embeddings.append(word_embeddings)\n",
    "    all_token_lists.append(token_list)\n",
    "    all_mean_pooled_embeddings.append(mean_pooled_embedding)\n",
    "    all_track_ids.append(track_id)\n",
    "\n",
    "    # Clear GPU memory cache after each iteration\n",
    "    torch.cuda.empty_cache()\n",
    "\n",
    "\n",
    "# Add word and sentence embeddings back to the DataFrame\n",
    "df['word_embeddings'] = all_word_embeddings\n",
    "df['sentence_embeddings'] = all_mean_pooled_embeddings\n",
    "\n",
    "df.to_excel(r\"C:\\Users\\nunez\\Facultad\\Factor Data\\Embeddings\\rock_nacional_w_embeddings.xlsx\")\n",
    "\n",
    "# Print the DataFrame with word and sentence embeddings\n",
    "df"
   ],
   "metadata": {
    "collapsed": false,
    "ExecuteTime": {
     "end_time": "2023-10-24T22:57:39.470998800Z",
     "start_time": "2023-10-24T22:18:33.405262800Z"
    }
   }
  },
  {
   "cell_type": "code",
   "execution_count": 127,
   "outputs": [],
   "source": [
    "# From lists\n",
    "data = {\n",
    "        'Track_ID': all_track_ids,\n",
    "        'Token': all_token_lists,\n",
    "        'Vector': all_word_embeddings}\n",
    "embeddings = pd.DataFrame(data)\n",
    "embeddings.explode(column=[\"Token\",\"Vector\"])\n",
    "embeddings.to_excel(r\"C:\\Users\\nunez\\Facultad\\Factor Data\\Embeddings\\embeddings_list.xlsx\")"
   ],
   "metadata": {
    "collapsed": false,
    "ExecuteTime": {
     "end_time": "2023-10-24T23:33:36.698870700Z",
     "start_time": "2023-10-24T22:57:39.490174500Z"
    }
   }
  },
  {
   "cell_type": "code",
   "execution_count": 128,
   "outputs": [
    {
     "data": {
      "text/plain": "                    Track_ID  \\\n0     3oqWr0jDWNXxWufNogGREp   \n1     6gwaa6ElIixNTvu6RwkMyo   \n2     1rh4kDY9T4fHVDum8Foi5k   \n3     12uaDRCVrgu4O6AyOZLrxG   \n4     17eJyYLIlMNlOqcwHYJ9F2   \n...                      ...   \n2564  2BOhm1YiL4UbVpLHulm3Fp   \n2565  3aazT0KqFmg8kkJCmXqDJV   \n2566  49bT0U3Ug059MXsBYrUWda   \n2567  6RcII8epzXd254KF82RhAp   \n2568  2A4A4iW4B3yoxkrgfXqtec   \n\n                                                  Token  \\\n0     [[CLS], la, espera, me, ago, ##tó, no, sé, nad...   \n1     [[CLS], hoy, te, busqué, en, la, rim, ##a, que...   \n2     [[CLS], susp, ##ira, ##ban, lo, mismo, los, do...   \n3     [[CLS], cuando, no, hay, más, que, decirnos, h...   \n4     [[CLS], un, lago, en, el, cielo, quiero, ser, ...   \n...                                                 ...   \n2564  [[CLS], do, rem, ##ember, w, ##hen, in, w, ##i...   \n2565  [[CLS], ohh, ##hh, na, na, na, na, na, na, nan...   \n2566  [[CLS], ly, ##ric, ##s, te, convertí, en, una,...   \n2567  [[CLS], yeah, yeah, yeah, vine, a, romper, un,...   \n2568  [[CLS], me, gustas, tú, me, gusta, la, lluvia,...   \n\n                                                 Vector  \n0     [[0.58316207, -0.2548763, 0.5817932, -0.552530...  \n1     [[0.27712262, -0.22966349, 0.47557557, -0.7245...  \n2     [[0.3018511, -0.2504684, 0.85548764, -0.462000...  \n3     [[0.31549487, 0.003480405, 0.771458, -0.640106...  \n4     [[0.39435253, -0.1032096, 0.77467644, -0.61168...  \n...                                                 ...  \n2564  [[-0.23152314, -0.31722507, 0.26386377, -0.133...  \n2565  [[0.049501408, -0.28220513, 0.59688103, -0.284...  \n2566  [[0.02281683, -0.26722732, 0.49827793, -0.2618...  \n2567  [[0.17208251, -0.28501275, 0.37805364, -0.3005...  \n2568  [[0.32244074, -0.19547899, 0.46098724, -0.4189...  \n\n[2569 rows x 3 columns]",
      "text/html": "<div>\n<style scoped>\n    .dataframe tbody tr th:only-of-type {\n        vertical-align: middle;\n    }\n\n    .dataframe tbody tr th {\n        vertical-align: top;\n    }\n\n    .dataframe thead th {\n        text-align: right;\n    }\n</style>\n<table border=\"1\" class=\"dataframe\">\n  <thead>\n    <tr style=\"text-align: right;\">\n      <th></th>\n      <th>Track_ID</th>\n      <th>Token</th>\n      <th>Vector</th>\n    </tr>\n  </thead>\n  <tbody>\n    <tr>\n      <th>0</th>\n      <td>3oqWr0jDWNXxWufNogGREp</td>\n      <td>[[CLS], la, espera, me, ago, ##tó, no, sé, nad...</td>\n      <td>[[0.58316207, -0.2548763, 0.5817932, -0.552530...</td>\n    </tr>\n    <tr>\n      <th>1</th>\n      <td>6gwaa6ElIixNTvu6RwkMyo</td>\n      <td>[[CLS], hoy, te, busqué, en, la, rim, ##a, que...</td>\n      <td>[[0.27712262, -0.22966349, 0.47557557, -0.7245...</td>\n    </tr>\n    <tr>\n      <th>2</th>\n      <td>1rh4kDY9T4fHVDum8Foi5k</td>\n      <td>[[CLS], susp, ##ira, ##ban, lo, mismo, los, do...</td>\n      <td>[[0.3018511, -0.2504684, 0.85548764, -0.462000...</td>\n    </tr>\n    <tr>\n      <th>3</th>\n      <td>12uaDRCVrgu4O6AyOZLrxG</td>\n      <td>[[CLS], cuando, no, hay, más, que, decirnos, h...</td>\n      <td>[[0.31549487, 0.003480405, 0.771458, -0.640106...</td>\n    </tr>\n    <tr>\n      <th>4</th>\n      <td>17eJyYLIlMNlOqcwHYJ9F2</td>\n      <td>[[CLS], un, lago, en, el, cielo, quiero, ser, ...</td>\n      <td>[[0.39435253, -0.1032096, 0.77467644, -0.61168...</td>\n    </tr>\n    <tr>\n      <th>...</th>\n      <td>...</td>\n      <td>...</td>\n      <td>...</td>\n    </tr>\n    <tr>\n      <th>2564</th>\n      <td>2BOhm1YiL4UbVpLHulm3Fp</td>\n      <td>[[CLS], do, rem, ##ember, w, ##hen, in, w, ##i...</td>\n      <td>[[-0.23152314, -0.31722507, 0.26386377, -0.133...</td>\n    </tr>\n    <tr>\n      <th>2565</th>\n      <td>3aazT0KqFmg8kkJCmXqDJV</td>\n      <td>[[CLS], ohh, ##hh, na, na, na, na, na, na, nan...</td>\n      <td>[[0.049501408, -0.28220513, 0.59688103, -0.284...</td>\n    </tr>\n    <tr>\n      <th>2566</th>\n      <td>49bT0U3Ug059MXsBYrUWda</td>\n      <td>[[CLS], ly, ##ric, ##s, te, convertí, en, una,...</td>\n      <td>[[0.02281683, -0.26722732, 0.49827793, -0.2618...</td>\n    </tr>\n    <tr>\n      <th>2567</th>\n      <td>6RcII8epzXd254KF82RhAp</td>\n      <td>[[CLS], yeah, yeah, yeah, vine, a, romper, un,...</td>\n      <td>[[0.17208251, -0.28501275, 0.37805364, -0.3005...</td>\n    </tr>\n    <tr>\n      <th>2568</th>\n      <td>2A4A4iW4B3yoxkrgfXqtec</td>\n      <td>[[CLS], me, gustas, tú, me, gusta, la, lluvia,...</td>\n      <td>[[0.32244074, -0.19547899, 0.46098724, -0.4189...</td>\n    </tr>\n  </tbody>\n</table>\n<p>2569 rows × 3 columns</p>\n</div>"
     },
     "execution_count": 128,
     "metadata": {},
     "output_type": "execute_result"
    }
   ],
   "source": [
    "embeddings"
   ],
   "metadata": {
    "collapsed": false,
    "ExecuteTime": {
     "end_time": "2023-10-24T23:33:37.223870800Z",
     "start_time": "2023-10-24T23:33:36.884871500Z"
    }
   }
  },
  {
   "cell_type": "code",
   "execution_count": 129,
   "outputs": [],
   "source": [
    "df.to_parquet(r\"C:\\Users\\nunez\\Facultad\\Factor Data\\Embeddings\\rock_nacional_w_embeddings.parquet\", engine=\"pyarrow\")\n",
    "embeddings.to_parquet(r\"C:\\Users\\nunez\\Facultad\\Factor Data\\Embeddings\\embeddings_list.parquet\", engine=\"pyarrow\")"
   ],
   "metadata": {
    "collapsed": false,
    "ExecuteTime": {
     "end_time": "2023-10-24T23:36:55.131672300Z",
     "start_time": "2023-10-24T23:33:37.363872900Z"
    }
   }
  },
  {
   "cell_type": "code",
   "execution_count": null,
   "outputs": [],
   "source": [],
   "metadata": {
    "collapsed": false
   }
  }
 ],
 "metadata": {
  "kernelspec": {
   "display_name": "Python 3",
   "language": "python",
   "name": "python3"
  },
  "language_info": {
   "codemirror_mode": {
    "name": "ipython",
    "version": 2
   },
   "file_extension": ".py",
   "mimetype": "text/x-python",
   "name": "python",
   "nbconvert_exporter": "python",
   "pygments_lexer": "ipython2",
   "version": "2.7.6"
  }
 },
 "nbformat": 4,
 "nbformat_minor": 0
}
