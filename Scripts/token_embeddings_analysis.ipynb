{
 "cells": [
  {
   "cell_type": "code",
   "execution_count": 1,
   "outputs": [],
   "source": [
    "import pandas as pd"
   ],
   "metadata": {
    "collapsed": false,
    "ExecuteTime": {
     "end_time": "2023-10-26T14:43:44.683875900Z",
     "start_time": "2023-10-26T14:43:44.343918600Z"
    }
   }
  },
  {
   "cell_type": "code",
   "execution_count": 2,
   "outputs": [
    {
     "data": {
      "text/plain": "                    Track_ID    Token  \\\n0     3oqWr0jDWNXxWufNogGREp    [CLS]   \n0     3oqWr0jDWNXxWufNogGREp       la   \n0     3oqWr0jDWNXxWufNogGREp   espera   \n0     3oqWr0jDWNXxWufNogGREp       me   \n0     3oqWr0jDWNXxWufNogGREp      ago   \n...                      ...      ...   \n2368  2A4A4iW4B3yoxkrgfXqtec   quiero   \n2368  2A4A4iW4B3yoxkrgfXqtec  conmigo   \n2368  2A4A4iW4B3yoxkrgfXqtec    sabes   \n2368  2A4A4iW4B3yoxkrgfXqtec      que   \n2368  2A4A4iW4B3yoxkrgfXqtec    [SEP]   \n\n                                                 Vector  Unnamed: 0  \n0     [0.58316207, -0.2548763, 0.5817932, -0.5525300...           0  \n0     [0.40415204, -0.58996695, 0.21745084, -0.98326...           0  \n0     [0.44872144, -0.3278354, 0.37156358, -0.692034...           0  \n0     [0.31225237, -0.18707056, 0.7082744, -0.753962...           0  \n0     [0.43501753, -0.3048075, 0.858199, -0.84143645...           0  \n...                                                 ...         ...  \n2368  [0.1059617, -0.019137062, 0.57827806, -0.33769...        2606  \n2368  [-0.19802892, -0.16234222, 0.4228391, -0.87569...        2606  \n2368  [-0.33800173, 0.23601773, 0.3865745, -0.199238...        2606  \n2368  [-0.47036862, -0.15992248, 0.14263812, -0.5165...        2606  \n2368  [0.32278353, -0.19520198, 0.46075225, -0.41845...        2606  \n\n[583936 rows x 4 columns]",
      "text/html": "<div>\n<style scoped>\n    .dataframe tbody tr th:only-of-type {\n        vertical-align: middle;\n    }\n\n    .dataframe tbody tr th {\n        vertical-align: top;\n    }\n\n    .dataframe thead th {\n        text-align: right;\n    }\n</style>\n<table border=\"1\" class=\"dataframe\">\n  <thead>\n    <tr style=\"text-align: right;\">\n      <th></th>\n      <th>Track_ID</th>\n      <th>Token</th>\n      <th>Vector</th>\n      <th>Unnamed: 0</th>\n    </tr>\n  </thead>\n  <tbody>\n    <tr>\n      <th>0</th>\n      <td>3oqWr0jDWNXxWufNogGREp</td>\n      <td>[CLS]</td>\n      <td>[0.58316207, -0.2548763, 0.5817932, -0.5525300...</td>\n      <td>0</td>\n    </tr>\n    <tr>\n      <th>0</th>\n      <td>3oqWr0jDWNXxWufNogGREp</td>\n      <td>la</td>\n      <td>[0.40415204, -0.58996695, 0.21745084, -0.98326...</td>\n      <td>0</td>\n    </tr>\n    <tr>\n      <th>0</th>\n      <td>3oqWr0jDWNXxWufNogGREp</td>\n      <td>espera</td>\n      <td>[0.44872144, -0.3278354, 0.37156358, -0.692034...</td>\n      <td>0</td>\n    </tr>\n    <tr>\n      <th>0</th>\n      <td>3oqWr0jDWNXxWufNogGREp</td>\n      <td>me</td>\n      <td>[0.31225237, -0.18707056, 0.7082744, -0.753962...</td>\n      <td>0</td>\n    </tr>\n    <tr>\n      <th>0</th>\n      <td>3oqWr0jDWNXxWufNogGREp</td>\n      <td>ago</td>\n      <td>[0.43501753, -0.3048075, 0.858199, -0.84143645...</td>\n      <td>0</td>\n    </tr>\n    <tr>\n      <th>...</th>\n      <td>...</td>\n      <td>...</td>\n      <td>...</td>\n      <td>...</td>\n    </tr>\n    <tr>\n      <th>2368</th>\n      <td>2A4A4iW4B3yoxkrgfXqtec</td>\n      <td>quiero</td>\n      <td>[0.1059617, -0.019137062, 0.57827806, -0.33769...</td>\n      <td>2606</td>\n    </tr>\n    <tr>\n      <th>2368</th>\n      <td>2A4A4iW4B3yoxkrgfXqtec</td>\n      <td>conmigo</td>\n      <td>[-0.19802892, -0.16234222, 0.4228391, -0.87569...</td>\n      <td>2606</td>\n    </tr>\n    <tr>\n      <th>2368</th>\n      <td>2A4A4iW4B3yoxkrgfXqtec</td>\n      <td>sabes</td>\n      <td>[-0.33800173, 0.23601773, 0.3865745, -0.199238...</td>\n      <td>2606</td>\n    </tr>\n    <tr>\n      <th>2368</th>\n      <td>2A4A4iW4B3yoxkrgfXqtec</td>\n      <td>que</td>\n      <td>[-0.47036862, -0.15992248, 0.14263812, -0.5165...</td>\n      <td>2606</td>\n    </tr>\n    <tr>\n      <th>2368</th>\n      <td>2A4A4iW4B3yoxkrgfXqtec</td>\n      <td>[SEP]</td>\n      <td>[0.32278353, -0.19520198, 0.46075225, -0.41845...</td>\n      <td>2606</td>\n    </tr>\n  </tbody>\n</table>\n<p>583936 rows × 4 columns</p>\n</div>"
     },
     "execution_count": 2,
     "metadata": {},
     "output_type": "execute_result"
    }
   ],
   "source": [
    "## Cargo los embeddings\n",
    "import pyarrow.parquet as pq\n",
    "parquet_file_path = r'C:\\Users\\nunez\\Facultad\\Factor Data\\Embeddings\\clean_embeddings_list.parquet'\n",
    "table = pq.read_table(parquet_file_path)\n",
    "df = table.to_pandas()\n",
    "del table\n",
    "\n",
    "df"
   ],
   "metadata": {
    "collapsed": false,
    "ExecuteTime": {
     "end_time": "2023-10-26T14:43:56.389803400Z",
     "start_time": "2023-10-26T14:43:44.683875900Z"
    }
   }
  },
  {
   "cell_type": "code",
   "execution_count": 3,
   "outputs": [],
   "source": [
    "rock = pd.read_csv(r\"C:\\Users\\nunez\\Facultad\\Factor Data\\Proyecto NLP canciones\\Datasets Scrapeados\\Rock_Nacional.csv\")\n",
    "df = pd.merge(rock,df, on=\"Track_ID\")\n",
    "del rock\n",
    "df = df[[\"Token\",\"Vector\",\"Track_release_date\",\"Track_ID\"]]"
   ],
   "metadata": {
    "collapsed": false,
    "ExecuteTime": {
     "end_time": "2023-10-26T14:43:57.204138500Z",
     "start_time": "2023-10-26T14:43:56.383922500Z"
    }
   }
  },
  {
   "cell_type": "code",
   "execution_count": 4,
   "outputs": [
    {
     "data": {
      "text/plain": "    Token                                             Vector  \\\n0   [CLS]  [0.58316207, -0.2548763, 0.5817932, -0.5525300...   \n1      la  [0.40415204, -0.58996695, 0.21745084, -0.98326...   \n2  espera  [0.44872144, -0.3278354, 0.37156358, -0.692034...   \n3      me  [0.31225237, -0.18707056, 0.7082744, -0.753962...   \n4     ago  [0.43501753, -0.3048075, 0.858199, -0.84143645...   \n\n  Track_release_date                Track_ID  \n0         2006-04-04  3oqWr0jDWNXxWufNogGREp  \n1         2006-04-04  3oqWr0jDWNXxWufNogGREp  \n2         2006-04-04  3oqWr0jDWNXxWufNogGREp  \n3         2006-04-04  3oqWr0jDWNXxWufNogGREp  \n4         2006-04-04  3oqWr0jDWNXxWufNogGREp  ",
      "text/html": "<div>\n<style scoped>\n    .dataframe tbody tr th:only-of-type {\n        vertical-align: middle;\n    }\n\n    .dataframe tbody tr th {\n        vertical-align: top;\n    }\n\n    .dataframe thead th {\n        text-align: right;\n    }\n</style>\n<table border=\"1\" class=\"dataframe\">\n  <thead>\n    <tr style=\"text-align: right;\">\n      <th></th>\n      <th>Token</th>\n      <th>Vector</th>\n      <th>Track_release_date</th>\n      <th>Track_ID</th>\n    </tr>\n  </thead>\n  <tbody>\n    <tr>\n      <th>0</th>\n      <td>[CLS]</td>\n      <td>[0.58316207, -0.2548763, 0.5817932, -0.5525300...</td>\n      <td>2006-04-04</td>\n      <td>3oqWr0jDWNXxWufNogGREp</td>\n    </tr>\n    <tr>\n      <th>1</th>\n      <td>la</td>\n      <td>[0.40415204, -0.58996695, 0.21745084, -0.98326...</td>\n      <td>2006-04-04</td>\n      <td>3oqWr0jDWNXxWufNogGREp</td>\n    </tr>\n    <tr>\n      <th>2</th>\n      <td>espera</td>\n      <td>[0.44872144, -0.3278354, 0.37156358, -0.692034...</td>\n      <td>2006-04-04</td>\n      <td>3oqWr0jDWNXxWufNogGREp</td>\n    </tr>\n    <tr>\n      <th>3</th>\n      <td>me</td>\n      <td>[0.31225237, -0.18707056, 0.7082744, -0.753962...</td>\n      <td>2006-04-04</td>\n      <td>3oqWr0jDWNXxWufNogGREp</td>\n    </tr>\n    <tr>\n      <th>4</th>\n      <td>ago</td>\n      <td>[0.43501753, -0.3048075, 0.858199, -0.84143645...</td>\n      <td>2006-04-04</td>\n      <td>3oqWr0jDWNXxWufNogGREp</td>\n    </tr>\n  </tbody>\n</table>\n</div>"
     },
     "execution_count": 4,
     "metadata": {},
     "output_type": "execute_result"
    }
   ],
   "source": [
    "df.head()"
   ],
   "metadata": {
    "collapsed": false,
    "ExecuteTime": {
     "end_time": "2023-10-26T14:43:57.214257400Z",
     "start_time": "2023-10-26T14:43:57.208180800Z"
    }
   }
  },
  {
   "cell_type": "code",
   "execution_count": 5,
   "outputs": [
    {
     "data": {
      "text/plain": "          Token                                             Vector  \\\n0         [CLS]  [0.58316207, -0.2548763, 0.5817932, -0.5525300...   \n1            la  [0.40415204, -0.58996695, 0.21745084, -0.98326...   \n2        espera  [0.44872144, -0.3278354, 0.37156358, -0.692034...   \n3            me  [0.31225237, -0.18707056, 0.7082744, -0.753962...   \n4           ago  [0.43501753, -0.3048075, 0.858199, -0.84143645...   \n...         ...                                                ...   \n599807   quiero  [0.1059617, -0.019137062, 0.57827806, -0.33769...   \n599808  conmigo  [-0.19802892, -0.16234222, 0.4228391, -0.87569...   \n599809    sabes  [-0.33800173, 0.23601773, 0.3865745, -0.199238...   \n599810      que  [-0.47036862, -0.15992248, 0.14263812, -0.5165...   \n599811    [SEP]  [0.32278353, -0.19520198, 0.46075225, -0.41845...   \n\n       Track_release_date                Track_ID  Década  \n0              2006-04-04  3oqWr0jDWNXxWufNogGREp    2000  \n1              2006-04-04  3oqWr0jDWNXxWufNogGREp    2000  \n2              2006-04-04  3oqWr0jDWNXxWufNogGREp    2000  \n3              2006-04-04  3oqWr0jDWNXxWufNogGREp    2000  \n4              2006-04-04  3oqWr0jDWNXxWufNogGREp    2000  \n...                   ...                     ...     ...  \n599807         2016-05-06  2A4A4iW4B3yoxkrgfXqtec    2010  \n599808         2016-05-06  2A4A4iW4B3yoxkrgfXqtec    2010  \n599809         2016-05-06  2A4A4iW4B3yoxkrgfXqtec    2010  \n599810         2016-05-06  2A4A4iW4B3yoxkrgfXqtec    2010  \n599811         2016-05-06  2A4A4iW4B3yoxkrgfXqtec    2010  \n\n[599812 rows x 5 columns]",
      "text/html": "<div>\n<style scoped>\n    .dataframe tbody tr th:only-of-type {\n        vertical-align: middle;\n    }\n\n    .dataframe tbody tr th {\n        vertical-align: top;\n    }\n\n    .dataframe thead th {\n        text-align: right;\n    }\n</style>\n<table border=\"1\" class=\"dataframe\">\n  <thead>\n    <tr style=\"text-align: right;\">\n      <th></th>\n      <th>Token</th>\n      <th>Vector</th>\n      <th>Track_release_date</th>\n      <th>Track_ID</th>\n      <th>Década</th>\n    </tr>\n  </thead>\n  <tbody>\n    <tr>\n      <th>0</th>\n      <td>[CLS]</td>\n      <td>[0.58316207, -0.2548763, 0.5817932, -0.5525300...</td>\n      <td>2006-04-04</td>\n      <td>3oqWr0jDWNXxWufNogGREp</td>\n      <td>2000</td>\n    </tr>\n    <tr>\n      <th>1</th>\n      <td>la</td>\n      <td>[0.40415204, -0.58996695, 0.21745084, -0.98326...</td>\n      <td>2006-04-04</td>\n      <td>3oqWr0jDWNXxWufNogGREp</td>\n      <td>2000</td>\n    </tr>\n    <tr>\n      <th>2</th>\n      <td>espera</td>\n      <td>[0.44872144, -0.3278354, 0.37156358, -0.692034...</td>\n      <td>2006-04-04</td>\n      <td>3oqWr0jDWNXxWufNogGREp</td>\n      <td>2000</td>\n    </tr>\n    <tr>\n      <th>3</th>\n      <td>me</td>\n      <td>[0.31225237, -0.18707056, 0.7082744, -0.753962...</td>\n      <td>2006-04-04</td>\n      <td>3oqWr0jDWNXxWufNogGREp</td>\n      <td>2000</td>\n    </tr>\n    <tr>\n      <th>4</th>\n      <td>ago</td>\n      <td>[0.43501753, -0.3048075, 0.858199, -0.84143645...</td>\n      <td>2006-04-04</td>\n      <td>3oqWr0jDWNXxWufNogGREp</td>\n      <td>2000</td>\n    </tr>\n    <tr>\n      <th>...</th>\n      <td>...</td>\n      <td>...</td>\n      <td>...</td>\n      <td>...</td>\n      <td>...</td>\n    </tr>\n    <tr>\n      <th>599807</th>\n      <td>quiero</td>\n      <td>[0.1059617, -0.019137062, 0.57827806, -0.33769...</td>\n      <td>2016-05-06</td>\n      <td>2A4A4iW4B3yoxkrgfXqtec</td>\n      <td>2010</td>\n    </tr>\n    <tr>\n      <th>599808</th>\n      <td>conmigo</td>\n      <td>[-0.19802892, -0.16234222, 0.4228391, -0.87569...</td>\n      <td>2016-05-06</td>\n      <td>2A4A4iW4B3yoxkrgfXqtec</td>\n      <td>2010</td>\n    </tr>\n    <tr>\n      <th>599809</th>\n      <td>sabes</td>\n      <td>[-0.33800173, 0.23601773, 0.3865745, -0.199238...</td>\n      <td>2016-05-06</td>\n      <td>2A4A4iW4B3yoxkrgfXqtec</td>\n      <td>2010</td>\n    </tr>\n    <tr>\n      <th>599810</th>\n      <td>que</td>\n      <td>[-0.47036862, -0.15992248, 0.14263812, -0.5165...</td>\n      <td>2016-05-06</td>\n      <td>2A4A4iW4B3yoxkrgfXqtec</td>\n      <td>2010</td>\n    </tr>\n    <tr>\n      <th>599811</th>\n      <td>[SEP]</td>\n      <td>[0.32278353, -0.19520198, 0.46075225, -0.41845...</td>\n      <td>2016-05-06</td>\n      <td>2A4A4iW4B3yoxkrgfXqtec</td>\n      <td>2010</td>\n    </tr>\n  </tbody>\n</table>\n<p>599812 rows × 5 columns</p>\n</div>"
     },
     "execution_count": 5,
     "metadata": {},
     "output_type": "execute_result"
    }
   ],
   "source": [
    "df[\"Track_release_date\"] = pd.to_datetime(df[\"Track_release_date\"], format=\"mixed\")\n",
    "df[\"Década\"] = (df[\"Track_release_date\"].dt.year // 10) * 10\n",
    "df"
   ],
   "metadata": {
    "collapsed": false,
    "ExecuteTime": {
     "end_time": "2023-10-26T14:43:57.313916500Z",
     "start_time": "2023-10-26T14:43:57.224115700Z"
    }
   }
  },
  {
   "cell_type": "code",
   "execution_count": 6,
   "outputs": [
    {
     "data": {
      "text/plain": "        Token  Década                                             Vector\n0         ##0    1980  [-0.12255203, 0.62738174, 0.2536687, 0.1538817...\n1         ##0    1990  [0.012928829, 0.51219606, 0.26635078, -0.04944...\n2         ##0    2000  [-0.017304806, 0.37430206, 0.49117604, -0.0736...\n3         ##0    2010  [-0.013826412, 0.42560387, 0.35536167, -0.0219...\n4         ##0    2020  [-0.05255384, 0.3976401, 0.4491216, -0.0416375...\n...       ...     ...                                                ...\n48179  únicos    2020  [0.19866076, -0.39793432, 0.50314707, -0.51603...\n48180    útil    1990  [0.2925494, 0.23859482, 0.38289753, -0.3070522...\n48181    útil    2000  [0.09353899, -0.4205814, -0.2526542, -0.664671...\n48182    útil    2010  [0.76778215, 0.6603068, 0.3190232, -0.46987182...\n48183  útiles    2020  [0.11340147, -0.119432464, 0.60996914, -0.1045...\n\n[48184 rows x 3 columns]",
      "text/html": "<div>\n<style scoped>\n    .dataframe tbody tr th:only-of-type {\n        vertical-align: middle;\n    }\n\n    .dataframe tbody tr th {\n        vertical-align: top;\n    }\n\n    .dataframe thead th {\n        text-align: right;\n    }\n</style>\n<table border=\"1\" class=\"dataframe\">\n  <thead>\n    <tr style=\"text-align: right;\">\n      <th></th>\n      <th>Token</th>\n      <th>Década</th>\n      <th>Vector</th>\n    </tr>\n  </thead>\n  <tbody>\n    <tr>\n      <th>0</th>\n      <td>##0</td>\n      <td>1980</td>\n      <td>[-0.12255203, 0.62738174, 0.2536687, 0.1538817...</td>\n    </tr>\n    <tr>\n      <th>1</th>\n      <td>##0</td>\n      <td>1990</td>\n      <td>[0.012928829, 0.51219606, 0.26635078, -0.04944...</td>\n    </tr>\n    <tr>\n      <th>2</th>\n      <td>##0</td>\n      <td>2000</td>\n      <td>[-0.017304806, 0.37430206, 0.49117604, -0.0736...</td>\n    </tr>\n    <tr>\n      <th>3</th>\n      <td>##0</td>\n      <td>2010</td>\n      <td>[-0.013826412, 0.42560387, 0.35536167, -0.0219...</td>\n    </tr>\n    <tr>\n      <th>4</th>\n      <td>##0</td>\n      <td>2020</td>\n      <td>[-0.05255384, 0.3976401, 0.4491216, -0.0416375...</td>\n    </tr>\n    <tr>\n      <th>...</th>\n      <td>...</td>\n      <td>...</td>\n      <td>...</td>\n    </tr>\n    <tr>\n      <th>48179</th>\n      <td>únicos</td>\n      <td>2020</td>\n      <td>[0.19866076, -0.39793432, 0.50314707, -0.51603...</td>\n    </tr>\n    <tr>\n      <th>48180</th>\n      <td>útil</td>\n      <td>1990</td>\n      <td>[0.2925494, 0.23859482, 0.38289753, -0.3070522...</td>\n    </tr>\n    <tr>\n      <th>48181</th>\n      <td>útil</td>\n      <td>2000</td>\n      <td>[0.09353899, -0.4205814, -0.2526542, -0.664671...</td>\n    </tr>\n    <tr>\n      <th>48182</th>\n      <td>útil</td>\n      <td>2010</td>\n      <td>[0.76778215, 0.6603068, 0.3190232, -0.46987182...</td>\n    </tr>\n    <tr>\n      <th>48183</th>\n      <td>útiles</td>\n      <td>2020</td>\n      <td>[0.11340147, -0.119432464, 0.60996914, -0.1045...</td>\n    </tr>\n  </tbody>\n</table>\n<p>48184 rows × 3 columns</p>\n</div>"
     },
     "execution_count": 6,
     "metadata": {},
     "output_type": "execute_result"
    }
   ],
   "source": [
    "mean_embeddings = df.groupby([\"Token\",\"Década\"])[\"Vector\"].mean()\n",
    "mean_embeddings = pd.DataFrame(mean_embeddings).reset_index()\n",
    "mean_embeddings"
   ],
   "metadata": {
    "collapsed": false,
    "ExecuteTime": {
     "end_time": "2023-10-26T14:44:02.333980100Z",
     "start_time": "2023-10-26T14:43:57.308368900Z"
    }
   }
  },
  {
   "cell_type": "code",
   "execution_count": 7,
   "outputs": [
    {
     "data": {
      "text/plain": "        Token  Década                                             Vector\n26595  hombre    1970  [0.08391239, 0.075024046, 0.08647453, -0.16806...\n26596  hombre    1980  [0.064323224, -0.1079509, 0.24685831, -0.30820...\n26597  hombre    1990  [0.28491998, -0.068315014, 0.16444772, -0.2949...\n26598  hombre    2000  [0.04915909, -0.05775112, 0.21560991, -0.23284...\n26599  hombre    2010  [0.16434057, -0.06142063, 0.21428372, -0.28775...\n26600  hombre    2020  [0.11661001, -0.09732416, 0.18019682, -0.27809...",
      "text/html": "<div>\n<style scoped>\n    .dataframe tbody tr th:only-of-type {\n        vertical-align: middle;\n    }\n\n    .dataframe tbody tr th {\n        vertical-align: top;\n    }\n\n    .dataframe thead th {\n        text-align: right;\n    }\n</style>\n<table border=\"1\" class=\"dataframe\">\n  <thead>\n    <tr style=\"text-align: right;\">\n      <th></th>\n      <th>Token</th>\n      <th>Década</th>\n      <th>Vector</th>\n    </tr>\n  </thead>\n  <tbody>\n    <tr>\n      <th>26595</th>\n      <td>hombre</td>\n      <td>1970</td>\n      <td>[0.08391239, 0.075024046, 0.08647453, -0.16806...</td>\n    </tr>\n    <tr>\n      <th>26596</th>\n      <td>hombre</td>\n      <td>1980</td>\n      <td>[0.064323224, -0.1079509, 0.24685831, -0.30820...</td>\n    </tr>\n    <tr>\n      <th>26597</th>\n      <td>hombre</td>\n      <td>1990</td>\n      <td>[0.28491998, -0.068315014, 0.16444772, -0.2949...</td>\n    </tr>\n    <tr>\n      <th>26598</th>\n      <td>hombre</td>\n      <td>2000</td>\n      <td>[0.04915909, -0.05775112, 0.21560991, -0.23284...</td>\n    </tr>\n    <tr>\n      <th>26599</th>\n      <td>hombre</td>\n      <td>2010</td>\n      <td>[0.16434057, -0.06142063, 0.21428372, -0.28775...</td>\n    </tr>\n    <tr>\n      <th>26600</th>\n      <td>hombre</td>\n      <td>2020</td>\n      <td>[0.11661001, -0.09732416, 0.18019682, -0.27809...</td>\n    </tr>\n  </tbody>\n</table>\n</div>"
     },
     "execution_count": 7,
     "metadata": {},
     "output_type": "execute_result"
    }
   ],
   "source": [
    "mean_embeddings[mean_embeddings[\"Token\"] == \"mujer\"]\n",
    "mean_embeddings[mean_embeddings[\"Token\"] == \"hombre\"]\n"
   ],
   "metadata": {
    "collapsed": false,
    "ExecuteTime": {
     "end_time": "2023-10-26T14:44:02.373836900Z",
     "start_time": "2023-10-26T14:44:02.334502600Z"
    }
   }
  },
  {
   "cell_type": "code",
   "execution_count": 8,
   "outputs": [],
   "source": [
    "import torch\n",
    "import numpy as np\n",
    "\n",
    "def most_similar_word(target_token, word_embeddings, x=5):\n",
    "    \"\"\"\n",
    "    Find the most similar word to a target token using cosine similarity on GPU.\n",
    "\n",
    "    Parameters:\n",
    "        target_token (str): The target token.\n",
    "        word_embeddings (pd.DataFrame): DataFrame where each row represents a word embedding with columns \"Token\" and \"Vector\".\n",
    "\n",
    "    Returns:\n",
    "        str: The most similar word to the target token.\n",
    "    \"\"\"\n",
    "    # Check if the target token is in the word embeddings DataFrame\n",
    "    if target_token not in word_embeddings[\"Token\"].values:\n",
    "        return None  # Return None if the target token is not found in the embeddings\n",
    "\n",
    "    # Get the embedding of the target token and move it to GPU\n",
    "    target_embedding = torch.tensor(word_embeddings.loc[word_embeddings[\"Token\"] == target_token, \"Vector\"].values[0], dtype=torch.float32).cuda()\n",
    "\n",
    "    # Ensure target embedding has a 2D shape (1, embedding_dim)\n",
    "    target_embedding = target_embedding.unsqueeze(0)\n",
    "\n",
    "    # Move all word embeddings to GPU\n",
    "    word_embeddings_gpu = torch.tensor(np.stack(word_embeddings[\"Vector\"].values), dtype=torch.float32).cuda()\n",
    "\n",
    "    # Calculate cosine similarities between the target embedding and all other word embeddings on GPU\n",
    "    similarities = torch.nn.functional.cosine_similarity(target_embedding, word_embeddings_gpu)\n",
    "\n",
    "    # Create a dictionary of similarities with word tokens as keys and similarities as values\n",
    "    similarity_dict = {word: float(similarity) for word, similarity in zip(word_embeddings[\"Token\"], similarities.cpu().numpy())}\n",
    "\n",
    "    # Sort the dictionary by similarity values in descending order\n",
    "    sorted_similarities = dict(sorted(similarity_dict.items(), key=lambda item: item[1], reverse=True))\n",
    "\n",
    "    # Fetch the most similar word\n",
    "    most_similar_word = list(sorted_similarities.keys())[:x]\n",
    "    return most_similar_word"
   ],
   "metadata": {
    "collapsed": false,
    "ExecuteTime": {
     "end_time": "2023-10-26T14:44:08.993995700Z",
     "start_time": "2023-10-26T14:44:02.353771600Z"
    }
   }
  },
  {
   "cell_type": "code",
   "execution_count": 9,
   "outputs": [],
   "source": [
    "def decade_similarity(token,x=10):\n",
    "    top_similar_decada = []\n",
    "    data = {}\n",
    "    for decada in mean_embeddings[\"Década\"].unique():\n",
    "        mean_embeddings_decada = mean_embeddings[mean_embeddings[\"Década\"] == decada]\n",
    "        data[decada] = most_similar_word(token,mean_embeddings_decada,x=x)\n",
    "    return pd.DataFrame(data)"
   ],
   "metadata": {
    "collapsed": false,
    "ExecuteTime": {
     "end_time": "2023-10-26T14:44:09.013868700Z",
     "start_time": "2023-10-26T14:44:08.993995700Z"
    }
   }
  },
  {
   "cell_type": "code",
   "execution_count": 10,
   "outputs": [
    {
     "data": {
      "text/plain": "      1980   1990   2000   2010   2020  1960    1970\n0     ella   ella   ella   ella   ella  None    ella\n1     ##la   ##la  ellos  ellos  ellos  None      él\n2  también  ellas     él  verla     él  None     era\n3    ellos     la     la  ellas  ellas  None   tenía\n4       la  ellos  quién     la     la  None  cartón\n5    quién     yo   ##la     yo     yo  None     ríe\n6  después     él     yo     él  quién  None     qué\n7       yo  usted  mujer  mujer     tú  None   [SEP]\n8       él    qué   cómo    qué  dónde  None    niña\n9    atrás     mí   aquí    mía   ##la  None     más",
      "text/html": "<div>\n<style scoped>\n    .dataframe tbody tr th:only-of-type {\n        vertical-align: middle;\n    }\n\n    .dataframe tbody tr th {\n        vertical-align: top;\n    }\n\n    .dataframe thead th {\n        text-align: right;\n    }\n</style>\n<table border=\"1\" class=\"dataframe\">\n  <thead>\n    <tr style=\"text-align: right;\">\n      <th></th>\n      <th>1980</th>\n      <th>1990</th>\n      <th>2000</th>\n      <th>2010</th>\n      <th>2020</th>\n      <th>1960</th>\n      <th>1970</th>\n    </tr>\n  </thead>\n  <tbody>\n    <tr>\n      <th>0</th>\n      <td>ella</td>\n      <td>ella</td>\n      <td>ella</td>\n      <td>ella</td>\n      <td>ella</td>\n      <td>None</td>\n      <td>ella</td>\n    </tr>\n    <tr>\n      <th>1</th>\n      <td>##la</td>\n      <td>##la</td>\n      <td>ellos</td>\n      <td>ellos</td>\n      <td>ellos</td>\n      <td>None</td>\n      <td>él</td>\n    </tr>\n    <tr>\n      <th>2</th>\n      <td>también</td>\n      <td>ellas</td>\n      <td>él</td>\n      <td>verla</td>\n      <td>él</td>\n      <td>None</td>\n      <td>era</td>\n    </tr>\n    <tr>\n      <th>3</th>\n      <td>ellos</td>\n      <td>la</td>\n      <td>la</td>\n      <td>ellas</td>\n      <td>ellas</td>\n      <td>None</td>\n      <td>tenía</td>\n    </tr>\n    <tr>\n      <th>4</th>\n      <td>la</td>\n      <td>ellos</td>\n      <td>quién</td>\n      <td>la</td>\n      <td>la</td>\n      <td>None</td>\n      <td>cartón</td>\n    </tr>\n    <tr>\n      <th>5</th>\n      <td>quién</td>\n      <td>yo</td>\n      <td>##la</td>\n      <td>yo</td>\n      <td>yo</td>\n      <td>None</td>\n      <td>ríe</td>\n    </tr>\n    <tr>\n      <th>6</th>\n      <td>después</td>\n      <td>él</td>\n      <td>yo</td>\n      <td>él</td>\n      <td>quién</td>\n      <td>None</td>\n      <td>qué</td>\n    </tr>\n    <tr>\n      <th>7</th>\n      <td>yo</td>\n      <td>usted</td>\n      <td>mujer</td>\n      <td>mujer</td>\n      <td>tú</td>\n      <td>None</td>\n      <td>[SEP]</td>\n    </tr>\n    <tr>\n      <th>8</th>\n      <td>él</td>\n      <td>qué</td>\n      <td>cómo</td>\n      <td>qué</td>\n      <td>dónde</td>\n      <td>None</td>\n      <td>niña</td>\n    </tr>\n    <tr>\n      <th>9</th>\n      <td>atrás</td>\n      <td>mí</td>\n      <td>aquí</td>\n      <td>mía</td>\n      <td>##la</td>\n      <td>None</td>\n      <td>más</td>\n    </tr>\n  </tbody>\n</table>\n</div>"
     },
     "execution_count": 10,
     "metadata": {},
     "output_type": "execute_result"
    }
   ],
   "source": [
    "decade_similarity(\"ella\")"
   ],
   "metadata": {
    "collapsed": false,
    "ExecuteTime": {
     "end_time": "2023-10-26T14:44:09.693875Z",
     "start_time": "2023-10-26T14:44:09.013868700Z"
    }
   }
  },
  {
   "cell_type": "code",
   "execution_count": 11,
   "outputs": [
    {
     "data": {
      "text/plain": "      1980     1990     2000     2010     2020  1960     1970\n0   hombre   hombre   hombre   hombre   hombre  None   hombre\n1  hombres    mujer  hombres  hombres     tipo  None  hombres\n2    mujer      día    mujer    mujer    mujer  None       un\n3     tipo     once     tipo     tipo  persona  None    viejo\n4      día     tipo   marido    padre    padre  None  anciano\n5    chico     niño      día  persona   humano  None    estoy\n6     niño  hombres    sabio    árbol   marido  None      soy\n7    amigo    chico    héroe     niño    ángel  None       no\n8    sueño    amigo    ángel    ángel      día  None    tiene\n9    limón    héroe    padre      día  hombres  None   humano",
      "text/html": "<div>\n<style scoped>\n    .dataframe tbody tr th:only-of-type {\n        vertical-align: middle;\n    }\n\n    .dataframe tbody tr th {\n        vertical-align: top;\n    }\n\n    .dataframe thead th {\n        text-align: right;\n    }\n</style>\n<table border=\"1\" class=\"dataframe\">\n  <thead>\n    <tr style=\"text-align: right;\">\n      <th></th>\n      <th>1980</th>\n      <th>1990</th>\n      <th>2000</th>\n      <th>2010</th>\n      <th>2020</th>\n      <th>1960</th>\n      <th>1970</th>\n    </tr>\n  </thead>\n  <tbody>\n    <tr>\n      <th>0</th>\n      <td>hombre</td>\n      <td>hombre</td>\n      <td>hombre</td>\n      <td>hombre</td>\n      <td>hombre</td>\n      <td>None</td>\n      <td>hombre</td>\n    </tr>\n    <tr>\n      <th>1</th>\n      <td>hombres</td>\n      <td>mujer</td>\n      <td>hombres</td>\n      <td>hombres</td>\n      <td>tipo</td>\n      <td>None</td>\n      <td>hombres</td>\n    </tr>\n    <tr>\n      <th>2</th>\n      <td>mujer</td>\n      <td>día</td>\n      <td>mujer</td>\n      <td>mujer</td>\n      <td>mujer</td>\n      <td>None</td>\n      <td>un</td>\n    </tr>\n    <tr>\n      <th>3</th>\n      <td>tipo</td>\n      <td>once</td>\n      <td>tipo</td>\n      <td>tipo</td>\n      <td>persona</td>\n      <td>None</td>\n      <td>viejo</td>\n    </tr>\n    <tr>\n      <th>4</th>\n      <td>día</td>\n      <td>tipo</td>\n      <td>marido</td>\n      <td>padre</td>\n      <td>padre</td>\n      <td>None</td>\n      <td>anciano</td>\n    </tr>\n    <tr>\n      <th>5</th>\n      <td>chico</td>\n      <td>niño</td>\n      <td>día</td>\n      <td>persona</td>\n      <td>humano</td>\n      <td>None</td>\n      <td>estoy</td>\n    </tr>\n    <tr>\n      <th>6</th>\n      <td>niño</td>\n      <td>hombres</td>\n      <td>sabio</td>\n      <td>árbol</td>\n      <td>marido</td>\n      <td>None</td>\n      <td>soy</td>\n    </tr>\n    <tr>\n      <th>7</th>\n      <td>amigo</td>\n      <td>chico</td>\n      <td>héroe</td>\n      <td>niño</td>\n      <td>ángel</td>\n      <td>None</td>\n      <td>no</td>\n    </tr>\n    <tr>\n      <th>8</th>\n      <td>sueño</td>\n      <td>amigo</td>\n      <td>ángel</td>\n      <td>ángel</td>\n      <td>día</td>\n      <td>None</td>\n      <td>tiene</td>\n    </tr>\n    <tr>\n      <th>9</th>\n      <td>limón</td>\n      <td>héroe</td>\n      <td>padre</td>\n      <td>día</td>\n      <td>hombres</td>\n      <td>None</td>\n      <td>humano</td>\n    </tr>\n  </tbody>\n</table>\n</div>"
     },
     "execution_count": 11,
     "metadata": {},
     "output_type": "execute_result"
    }
   ],
   "source": [
    "decade_similarity(\"hombre\")"
   ],
   "metadata": {
    "collapsed": false,
    "ExecuteTime": {
     "end_time": "2023-10-26T14:44:09.891087700Z",
     "start_time": "2023-10-26T14:44:09.693875Z"
    }
   }
  },
  {
   "cell_type": "code",
   "execution_count": 12,
   "outputs": [
    {
     "data": {
      "text/plain": "      1980     1990     2000     2010     2020  1960  1970\n0    mujer    mujer    mujer    mujer    mujer  None  None\n1   hombre   hombre  mujeres  mujeres  mujeres  None  None\n2   esposa  mujeres   hombre   hombre   hombre  None  None\n3     ella      día   esposa     dama     dama  None  None\n4   ciudad     ella   marido     niña   marido  None  None\n5  canción  ilusión    madre   frágil  persona  None  None\n6    gente     once     dama    chica    madre  None  None\n7      voz    perro  hombres  canción     ella  None  None\n8    chica      con     ella   pasión  canción  None  None\n9  persona   tambor   música    madre     puta  None  None",
      "text/html": "<div>\n<style scoped>\n    .dataframe tbody tr th:only-of-type {\n        vertical-align: middle;\n    }\n\n    .dataframe tbody tr th {\n        vertical-align: top;\n    }\n\n    .dataframe thead th {\n        text-align: right;\n    }\n</style>\n<table border=\"1\" class=\"dataframe\">\n  <thead>\n    <tr style=\"text-align: right;\">\n      <th></th>\n      <th>1980</th>\n      <th>1990</th>\n      <th>2000</th>\n      <th>2010</th>\n      <th>2020</th>\n      <th>1960</th>\n      <th>1970</th>\n    </tr>\n  </thead>\n  <tbody>\n    <tr>\n      <th>0</th>\n      <td>mujer</td>\n      <td>mujer</td>\n      <td>mujer</td>\n      <td>mujer</td>\n      <td>mujer</td>\n      <td>None</td>\n      <td>None</td>\n    </tr>\n    <tr>\n      <th>1</th>\n      <td>hombre</td>\n      <td>hombre</td>\n      <td>mujeres</td>\n      <td>mujeres</td>\n      <td>mujeres</td>\n      <td>None</td>\n      <td>None</td>\n    </tr>\n    <tr>\n      <th>2</th>\n      <td>esposa</td>\n      <td>mujeres</td>\n      <td>hombre</td>\n      <td>hombre</td>\n      <td>hombre</td>\n      <td>None</td>\n      <td>None</td>\n    </tr>\n    <tr>\n      <th>3</th>\n      <td>ella</td>\n      <td>día</td>\n      <td>esposa</td>\n      <td>dama</td>\n      <td>dama</td>\n      <td>None</td>\n      <td>None</td>\n    </tr>\n    <tr>\n      <th>4</th>\n      <td>ciudad</td>\n      <td>ella</td>\n      <td>marido</td>\n      <td>niña</td>\n      <td>marido</td>\n      <td>None</td>\n      <td>None</td>\n    </tr>\n    <tr>\n      <th>5</th>\n      <td>canción</td>\n      <td>ilusión</td>\n      <td>madre</td>\n      <td>frágil</td>\n      <td>persona</td>\n      <td>None</td>\n      <td>None</td>\n    </tr>\n    <tr>\n      <th>6</th>\n      <td>gente</td>\n      <td>once</td>\n      <td>dama</td>\n      <td>chica</td>\n      <td>madre</td>\n      <td>None</td>\n      <td>None</td>\n    </tr>\n    <tr>\n      <th>7</th>\n      <td>voz</td>\n      <td>perro</td>\n      <td>hombres</td>\n      <td>canción</td>\n      <td>ella</td>\n      <td>None</td>\n      <td>None</td>\n    </tr>\n    <tr>\n      <th>8</th>\n      <td>chica</td>\n      <td>con</td>\n      <td>ella</td>\n      <td>pasión</td>\n      <td>canción</td>\n      <td>None</td>\n      <td>None</td>\n    </tr>\n    <tr>\n      <th>9</th>\n      <td>persona</td>\n      <td>tambor</td>\n      <td>música</td>\n      <td>madre</td>\n      <td>puta</td>\n      <td>None</td>\n      <td>None</td>\n    </tr>\n  </tbody>\n</table>\n</div>"
     },
     "execution_count": 12,
     "metadata": {},
     "output_type": "execute_result"
    }
   ],
   "source": [
    "decade_similarity(\"mujer\")"
   ],
   "metadata": {
    "collapsed": false,
    "ExecuteTime": {
     "end_time": "2023-10-26T14:44:10.085982900Z",
     "start_time": "2023-10-26T14:44:09.891087700Z"
    }
   }
  },
  {
   "cell_type": "code",
   "execution_count": 13,
   "outputs": [
    {
     "data": {
      "text/plain": "      1980        1990       2000      2010       2020  1960  1970\n0   guerra      guerra     guerra    guerra     guerra  None  None\n1    tembl       lucha    batalla   guerras    guerras  None  None\n2  vueltas  revolución    guerras   batalla  conflicto  None  None\n3      sal     guerras      lucha     pelea     música  None  None\n4   muerte      muerte      pelea    muerte        paz  None  None\n5       té  televisión  violencia    música      unión  None  None\n6  máscara     policía     tierra  victoria    prisión  None  None\n7      ahí    historia    función    tierra    alegría  None  None\n8  después      cárcel    ilusión  historia    carrera  None  None\n9   vuelta     tiranía    bandera    sangre   película  None  None",
      "text/html": "<div>\n<style scoped>\n    .dataframe tbody tr th:only-of-type {\n        vertical-align: middle;\n    }\n\n    .dataframe tbody tr th {\n        vertical-align: top;\n    }\n\n    .dataframe thead th {\n        text-align: right;\n    }\n</style>\n<table border=\"1\" class=\"dataframe\">\n  <thead>\n    <tr style=\"text-align: right;\">\n      <th></th>\n      <th>1980</th>\n      <th>1990</th>\n      <th>2000</th>\n      <th>2010</th>\n      <th>2020</th>\n      <th>1960</th>\n      <th>1970</th>\n    </tr>\n  </thead>\n  <tbody>\n    <tr>\n      <th>0</th>\n      <td>guerra</td>\n      <td>guerra</td>\n      <td>guerra</td>\n      <td>guerra</td>\n      <td>guerra</td>\n      <td>None</td>\n      <td>None</td>\n    </tr>\n    <tr>\n      <th>1</th>\n      <td>tembl</td>\n      <td>lucha</td>\n      <td>batalla</td>\n      <td>guerras</td>\n      <td>guerras</td>\n      <td>None</td>\n      <td>None</td>\n    </tr>\n    <tr>\n      <th>2</th>\n      <td>vueltas</td>\n      <td>revolución</td>\n      <td>guerras</td>\n      <td>batalla</td>\n      <td>conflicto</td>\n      <td>None</td>\n      <td>None</td>\n    </tr>\n    <tr>\n      <th>3</th>\n      <td>sal</td>\n      <td>guerras</td>\n      <td>lucha</td>\n      <td>pelea</td>\n      <td>música</td>\n      <td>None</td>\n      <td>None</td>\n    </tr>\n    <tr>\n      <th>4</th>\n      <td>muerte</td>\n      <td>muerte</td>\n      <td>pelea</td>\n      <td>muerte</td>\n      <td>paz</td>\n      <td>None</td>\n      <td>None</td>\n    </tr>\n    <tr>\n      <th>5</th>\n      <td>té</td>\n      <td>televisión</td>\n      <td>violencia</td>\n      <td>música</td>\n      <td>unión</td>\n      <td>None</td>\n      <td>None</td>\n    </tr>\n    <tr>\n      <th>6</th>\n      <td>máscara</td>\n      <td>policía</td>\n      <td>tierra</td>\n      <td>victoria</td>\n      <td>prisión</td>\n      <td>None</td>\n      <td>None</td>\n    </tr>\n    <tr>\n      <th>7</th>\n      <td>ahí</td>\n      <td>historia</td>\n      <td>función</td>\n      <td>tierra</td>\n      <td>alegría</td>\n      <td>None</td>\n      <td>None</td>\n    </tr>\n    <tr>\n      <th>8</th>\n      <td>después</td>\n      <td>cárcel</td>\n      <td>ilusión</td>\n      <td>historia</td>\n      <td>carrera</td>\n      <td>None</td>\n      <td>None</td>\n    </tr>\n    <tr>\n      <th>9</th>\n      <td>vuelta</td>\n      <td>tiranía</td>\n      <td>bandera</td>\n      <td>sangre</td>\n      <td>película</td>\n      <td>None</td>\n      <td>None</td>\n    </tr>\n  </tbody>\n</table>\n</div>"
     },
     "execution_count": 13,
     "metadata": {},
     "output_type": "execute_result"
    }
   ],
   "source": [
    "decade_similarity(\"guerra\")"
   ],
   "metadata": {
    "collapsed": false,
    "ExecuteTime": {
     "end_time": "2023-10-26T14:44:10.286222600Z",
     "start_time": "2023-10-26T14:44:10.085982900Z"
    }
   }
  },
  {
   "cell_type": "code",
   "execution_count": 14,
   "outputs": [
    {
     "data": {
      "text/plain": "       1980  1990           2000        2010      2020  1960  1970\n0   pobreza  None        pobreza     pobreza   pobreza  None  None\n1   fortuna  None        miseria     miseria   miseria  None  None\n2   envidia  None        soledad  ignorancia     unión  None  None\n3    muerte  None  desesperación     soledad   alegría  None  None\n4    países  None        escasez      muerte     pobre  None  None\n5  sociedad  None     injusticia   imitación  traición  None  None\n6    dinero  None         pasión      cárcel     caída  None  None\n7    pasión  None          ruina  injusticia   envidia  None  None\n8       más  None      confusión    estación       vía  None  None\n9       oro  None        ilusión      música   soledad  None  None",
      "text/html": "<div>\n<style scoped>\n    .dataframe tbody tr th:only-of-type {\n        vertical-align: middle;\n    }\n\n    .dataframe tbody tr th {\n        vertical-align: top;\n    }\n\n    .dataframe thead th {\n        text-align: right;\n    }\n</style>\n<table border=\"1\" class=\"dataframe\">\n  <thead>\n    <tr style=\"text-align: right;\">\n      <th></th>\n      <th>1980</th>\n      <th>1990</th>\n      <th>2000</th>\n      <th>2010</th>\n      <th>2020</th>\n      <th>1960</th>\n      <th>1970</th>\n    </tr>\n  </thead>\n  <tbody>\n    <tr>\n      <th>0</th>\n      <td>pobreza</td>\n      <td>None</td>\n      <td>pobreza</td>\n      <td>pobreza</td>\n      <td>pobreza</td>\n      <td>None</td>\n      <td>None</td>\n    </tr>\n    <tr>\n      <th>1</th>\n      <td>fortuna</td>\n      <td>None</td>\n      <td>miseria</td>\n      <td>miseria</td>\n      <td>miseria</td>\n      <td>None</td>\n      <td>None</td>\n    </tr>\n    <tr>\n      <th>2</th>\n      <td>envidia</td>\n      <td>None</td>\n      <td>soledad</td>\n      <td>ignorancia</td>\n      <td>unión</td>\n      <td>None</td>\n      <td>None</td>\n    </tr>\n    <tr>\n      <th>3</th>\n      <td>muerte</td>\n      <td>None</td>\n      <td>desesperación</td>\n      <td>soledad</td>\n      <td>alegría</td>\n      <td>None</td>\n      <td>None</td>\n    </tr>\n    <tr>\n      <th>4</th>\n      <td>países</td>\n      <td>None</td>\n      <td>escasez</td>\n      <td>muerte</td>\n      <td>pobre</td>\n      <td>None</td>\n      <td>None</td>\n    </tr>\n    <tr>\n      <th>5</th>\n      <td>sociedad</td>\n      <td>None</td>\n      <td>injusticia</td>\n      <td>imitación</td>\n      <td>traición</td>\n      <td>None</td>\n      <td>None</td>\n    </tr>\n    <tr>\n      <th>6</th>\n      <td>dinero</td>\n      <td>None</td>\n      <td>pasión</td>\n      <td>cárcel</td>\n      <td>caída</td>\n      <td>None</td>\n      <td>None</td>\n    </tr>\n    <tr>\n      <th>7</th>\n      <td>pasión</td>\n      <td>None</td>\n      <td>ruina</td>\n      <td>injusticia</td>\n      <td>envidia</td>\n      <td>None</td>\n      <td>None</td>\n    </tr>\n    <tr>\n      <th>8</th>\n      <td>más</td>\n      <td>None</td>\n      <td>confusión</td>\n      <td>estación</td>\n      <td>vía</td>\n      <td>None</td>\n      <td>None</td>\n    </tr>\n    <tr>\n      <th>9</th>\n      <td>oro</td>\n      <td>None</td>\n      <td>ilusión</td>\n      <td>música</td>\n      <td>soledad</td>\n      <td>None</td>\n      <td>None</td>\n    </tr>\n  </tbody>\n</table>\n</div>"
     },
     "execution_count": 14,
     "metadata": {},
     "output_type": "execute_result"
    }
   ],
   "source": [
    "decade_similarity(\"pobreza\")"
   ],
   "metadata": {
    "collapsed": false,
    "ExecuteTime": {
     "end_time": "2023-10-26T14:44:10.478783400Z",
     "start_time": "2023-10-26T14:44:10.286222600Z"
    }
   }
  },
  {
   "cell_type": "code",
   "execution_count": 15,
   "outputs": [
    {
     "data": {
      "text/plain": "        1980     1990      2000     2010     2020  1960      1970\n0       mamá     mamá      mamá     mamá     mamá  None      mamá\n1         sí    vieja  fantasía     papá     papá  None      papá\n2  maldición     país   también     aquí       él  None     madre\n3        you  corazón   alegría   música  todavía  None        él\n4      ##gie     papá    pasión  también       sí  None     padre\n5        más  prisión       así      ahí     aquí  None  compañía\n6       mama   pasión        él      más    quién  None       más\n7       ##ón   abuela  adicción       sí      qué  None    música\n8       aquí   rápido      allí       tú     sólo  None  guitarra\n9      [SEP]  canción       aún     allá      acá  None    millón",
      "text/html": "<div>\n<style scoped>\n    .dataframe tbody tr th:only-of-type {\n        vertical-align: middle;\n    }\n\n    .dataframe tbody tr th {\n        vertical-align: top;\n    }\n\n    .dataframe thead th {\n        text-align: right;\n    }\n</style>\n<table border=\"1\" class=\"dataframe\">\n  <thead>\n    <tr style=\"text-align: right;\">\n      <th></th>\n      <th>1980</th>\n      <th>1990</th>\n      <th>2000</th>\n      <th>2010</th>\n      <th>2020</th>\n      <th>1960</th>\n      <th>1970</th>\n    </tr>\n  </thead>\n  <tbody>\n    <tr>\n      <th>0</th>\n      <td>mamá</td>\n      <td>mamá</td>\n      <td>mamá</td>\n      <td>mamá</td>\n      <td>mamá</td>\n      <td>None</td>\n      <td>mamá</td>\n    </tr>\n    <tr>\n      <th>1</th>\n      <td>sí</td>\n      <td>vieja</td>\n      <td>fantasía</td>\n      <td>papá</td>\n      <td>papá</td>\n      <td>None</td>\n      <td>papá</td>\n    </tr>\n    <tr>\n      <th>2</th>\n      <td>maldición</td>\n      <td>país</td>\n      <td>también</td>\n      <td>aquí</td>\n      <td>él</td>\n      <td>None</td>\n      <td>madre</td>\n    </tr>\n    <tr>\n      <th>3</th>\n      <td>you</td>\n      <td>corazón</td>\n      <td>alegría</td>\n      <td>música</td>\n      <td>todavía</td>\n      <td>None</td>\n      <td>él</td>\n    </tr>\n    <tr>\n      <th>4</th>\n      <td>##gie</td>\n      <td>papá</td>\n      <td>pasión</td>\n      <td>también</td>\n      <td>sí</td>\n      <td>None</td>\n      <td>padre</td>\n    </tr>\n    <tr>\n      <th>5</th>\n      <td>más</td>\n      <td>prisión</td>\n      <td>así</td>\n      <td>ahí</td>\n      <td>aquí</td>\n      <td>None</td>\n      <td>compañía</td>\n    </tr>\n    <tr>\n      <th>6</th>\n      <td>mama</td>\n      <td>pasión</td>\n      <td>él</td>\n      <td>más</td>\n      <td>quién</td>\n      <td>None</td>\n      <td>más</td>\n    </tr>\n    <tr>\n      <th>7</th>\n      <td>##ón</td>\n      <td>abuela</td>\n      <td>adicción</td>\n      <td>sí</td>\n      <td>qué</td>\n      <td>None</td>\n      <td>música</td>\n    </tr>\n    <tr>\n      <th>8</th>\n      <td>aquí</td>\n      <td>rápido</td>\n      <td>allí</td>\n      <td>tú</td>\n      <td>sólo</td>\n      <td>None</td>\n      <td>guitarra</td>\n    </tr>\n    <tr>\n      <th>9</th>\n      <td>[SEP]</td>\n      <td>canción</td>\n      <td>aún</td>\n      <td>allá</td>\n      <td>acá</td>\n      <td>None</td>\n      <td>millón</td>\n    </tr>\n  </tbody>\n</table>\n</div>"
     },
     "execution_count": 15,
     "metadata": {},
     "output_type": "execute_result"
    }
   ],
   "source": [
    "decade_similarity(\"mamá\")"
   ],
   "metadata": {
    "collapsed": false,
    "ExecuteTime": {
     "end_time": "2023-10-26T14:44:10.644034Z",
     "start_time": "2023-10-26T14:44:10.443762100Z"
    }
   }
  },
  {
   "cell_type": "code",
   "execution_count": 16,
   "outputs": [
    {
     "data": {
      "text/plain": "        1980        1990        2000      2010        2020  1960         1970\n0    trabajo     trabajo     trabajo   trabajo     trabajo  None      trabajo\n1     dinero        frío    trabajar    dinero    trabajar  None     trabajar\n2    corazón      dinero    esfuerzo   trabaja      dinero  None         papá\n3     empleo     campeón      dinero      frío   beneficio  None  ferrocarril\n4       asco        papá     trabaja  descanso     negocio  None         mamá\n5   sociedad      poesía     negocio    perdón      sueldo  None     guitarra\n6     esposa      hambre      empleo  cinturón      oficio  None           él\n7     nación       sueño        país   máscara       sueño  None  encontrarme\n8    oficina      patria       sueño      peso         día  None         aqui\n9        ahí          él        frío    comida     trabaja  None        obras\n10     héroe   violencia        mamá  trabajos        frío  None        [SEP]\n11      casa     derecho       avión      mamá  trabajador  None       millón\n12     tumba         más      fútbol      papá    problema  None         lado\n13   escuela     oficina         día       más         más  None        clavo\n14   familia        café  trabajando  problema        país  None          ##w\n15  callejón    elección      rancho   respeto         qué  None       música\n16     hogar  televisión     policía  esfuerzo        mamá  None     fenómeno\n17      vida   educación       lucha  material        papá  None       violín\n18     suelo       pobre        pago      bebé       soñar  None        [CLS]\n19        sí        país    callejón   familia       cuero  None          qué",
      "text/html": "<div>\n<style scoped>\n    .dataframe tbody tr th:only-of-type {\n        vertical-align: middle;\n    }\n\n    .dataframe tbody tr th {\n        vertical-align: top;\n    }\n\n    .dataframe thead th {\n        text-align: right;\n    }\n</style>\n<table border=\"1\" class=\"dataframe\">\n  <thead>\n    <tr style=\"text-align: right;\">\n      <th></th>\n      <th>1980</th>\n      <th>1990</th>\n      <th>2000</th>\n      <th>2010</th>\n      <th>2020</th>\n      <th>1960</th>\n      <th>1970</th>\n    </tr>\n  </thead>\n  <tbody>\n    <tr>\n      <th>0</th>\n      <td>trabajo</td>\n      <td>trabajo</td>\n      <td>trabajo</td>\n      <td>trabajo</td>\n      <td>trabajo</td>\n      <td>None</td>\n      <td>trabajo</td>\n    </tr>\n    <tr>\n      <th>1</th>\n      <td>dinero</td>\n      <td>frío</td>\n      <td>trabajar</td>\n      <td>dinero</td>\n      <td>trabajar</td>\n      <td>None</td>\n      <td>trabajar</td>\n    </tr>\n    <tr>\n      <th>2</th>\n      <td>corazón</td>\n      <td>dinero</td>\n      <td>esfuerzo</td>\n      <td>trabaja</td>\n      <td>dinero</td>\n      <td>None</td>\n      <td>papá</td>\n    </tr>\n    <tr>\n      <th>3</th>\n      <td>empleo</td>\n      <td>campeón</td>\n      <td>dinero</td>\n      <td>frío</td>\n      <td>beneficio</td>\n      <td>None</td>\n      <td>ferrocarril</td>\n    </tr>\n    <tr>\n      <th>4</th>\n      <td>asco</td>\n      <td>papá</td>\n      <td>trabaja</td>\n      <td>descanso</td>\n      <td>negocio</td>\n      <td>None</td>\n      <td>mamá</td>\n    </tr>\n    <tr>\n      <th>5</th>\n      <td>sociedad</td>\n      <td>poesía</td>\n      <td>negocio</td>\n      <td>perdón</td>\n      <td>sueldo</td>\n      <td>None</td>\n      <td>guitarra</td>\n    </tr>\n    <tr>\n      <th>6</th>\n      <td>esposa</td>\n      <td>hambre</td>\n      <td>empleo</td>\n      <td>cinturón</td>\n      <td>oficio</td>\n      <td>None</td>\n      <td>él</td>\n    </tr>\n    <tr>\n      <th>7</th>\n      <td>nación</td>\n      <td>sueño</td>\n      <td>país</td>\n      <td>máscara</td>\n      <td>sueño</td>\n      <td>None</td>\n      <td>encontrarme</td>\n    </tr>\n    <tr>\n      <th>8</th>\n      <td>oficina</td>\n      <td>patria</td>\n      <td>sueño</td>\n      <td>peso</td>\n      <td>día</td>\n      <td>None</td>\n      <td>aqui</td>\n    </tr>\n    <tr>\n      <th>9</th>\n      <td>ahí</td>\n      <td>él</td>\n      <td>frío</td>\n      <td>comida</td>\n      <td>trabaja</td>\n      <td>None</td>\n      <td>obras</td>\n    </tr>\n    <tr>\n      <th>10</th>\n      <td>héroe</td>\n      <td>violencia</td>\n      <td>mamá</td>\n      <td>trabajos</td>\n      <td>frío</td>\n      <td>None</td>\n      <td>[SEP]</td>\n    </tr>\n    <tr>\n      <th>11</th>\n      <td>casa</td>\n      <td>derecho</td>\n      <td>avión</td>\n      <td>mamá</td>\n      <td>trabajador</td>\n      <td>None</td>\n      <td>millón</td>\n    </tr>\n    <tr>\n      <th>12</th>\n      <td>tumba</td>\n      <td>más</td>\n      <td>fútbol</td>\n      <td>papá</td>\n      <td>problema</td>\n      <td>None</td>\n      <td>lado</td>\n    </tr>\n    <tr>\n      <th>13</th>\n      <td>escuela</td>\n      <td>oficina</td>\n      <td>día</td>\n      <td>más</td>\n      <td>más</td>\n      <td>None</td>\n      <td>clavo</td>\n    </tr>\n    <tr>\n      <th>14</th>\n      <td>familia</td>\n      <td>café</td>\n      <td>trabajando</td>\n      <td>problema</td>\n      <td>país</td>\n      <td>None</td>\n      <td>##w</td>\n    </tr>\n    <tr>\n      <th>15</th>\n      <td>callejón</td>\n      <td>elección</td>\n      <td>rancho</td>\n      <td>respeto</td>\n      <td>qué</td>\n      <td>None</td>\n      <td>música</td>\n    </tr>\n    <tr>\n      <th>16</th>\n      <td>hogar</td>\n      <td>televisión</td>\n      <td>policía</td>\n      <td>esfuerzo</td>\n      <td>mamá</td>\n      <td>None</td>\n      <td>fenómeno</td>\n    </tr>\n    <tr>\n      <th>17</th>\n      <td>vida</td>\n      <td>educación</td>\n      <td>lucha</td>\n      <td>material</td>\n      <td>papá</td>\n      <td>None</td>\n      <td>violín</td>\n    </tr>\n    <tr>\n      <th>18</th>\n      <td>suelo</td>\n      <td>pobre</td>\n      <td>pago</td>\n      <td>bebé</td>\n      <td>soñar</td>\n      <td>None</td>\n      <td>[CLS]</td>\n    </tr>\n    <tr>\n      <th>19</th>\n      <td>sí</td>\n      <td>país</td>\n      <td>callejón</td>\n      <td>familia</td>\n      <td>cuero</td>\n      <td>None</td>\n      <td>qué</td>\n    </tr>\n  </tbody>\n</table>\n</div>"
     },
     "execution_count": 16,
     "metadata": {},
     "output_type": "execute_result"
    }
   ],
   "source": [
    "decade_similarity(\"trabajo\",x=20)"
   ],
   "metadata": {
    "collapsed": false,
    "ExecuteTime": {
     "end_time": "2023-10-26T14:44:10.835473800Z",
     "start_time": "2023-10-26T14:44:10.644034Z"
    }
   }
  },
  {
   "cell_type": "code",
   "execution_count": 17,
   "outputs": [
    {
     "data": {
      "text/plain": "    1980          1990        2000         2010          2020  1960  1970\n0   None       policía     policía      policía       policía  None  None\n1   None        cárcel     presión       música        música  None  None\n2   None    televisión    ambición         mamá           mía  None  None\n3   None       ocasión    rebelión     estación       presión  None  None\n4   None     educación      cámara      montaña        mañana  None  None\n5   None      compañía      pasión   televisión      traición  None  None\n6   None        poesía    fantasía       acción     situación  None  None\n7   None       pensión        mamá       visión           vía  None  None\n8   None       canción     energía        razón  manipulación  None  None\n9   None     tentación     función    atmósfera      película  None  None\n10  None         razón    traición         niña     porquería  None  None\n11  None  comunicación   porquería      canción       víctima  None  None\n12  None       melodía     alegría          tío       canción  None  None\n13  None        música   situación     callejón    producción  None  None\n14  None           vía          fé         robé      religión  None  None\n15  None        última        cayó    reflexión        misión  None  None\n16  None       emoción      cuánta         peña       alegría  None  None\n17  None      fantasía        bebé      corazón         unión  None  None\n18  None       energía    melodías  respiración       prisión  None  None\n19  None       montaña  revolución        línea          mamá  None  None",
      "text/html": "<div>\n<style scoped>\n    .dataframe tbody tr th:only-of-type {\n        vertical-align: middle;\n    }\n\n    .dataframe tbody tr th {\n        vertical-align: top;\n    }\n\n    .dataframe thead th {\n        text-align: right;\n    }\n</style>\n<table border=\"1\" class=\"dataframe\">\n  <thead>\n    <tr style=\"text-align: right;\">\n      <th></th>\n      <th>1980</th>\n      <th>1990</th>\n      <th>2000</th>\n      <th>2010</th>\n      <th>2020</th>\n      <th>1960</th>\n      <th>1970</th>\n    </tr>\n  </thead>\n  <tbody>\n    <tr>\n      <th>0</th>\n      <td>None</td>\n      <td>policía</td>\n      <td>policía</td>\n      <td>policía</td>\n      <td>policía</td>\n      <td>None</td>\n      <td>None</td>\n    </tr>\n    <tr>\n      <th>1</th>\n      <td>None</td>\n      <td>cárcel</td>\n      <td>presión</td>\n      <td>música</td>\n      <td>música</td>\n      <td>None</td>\n      <td>None</td>\n    </tr>\n    <tr>\n      <th>2</th>\n      <td>None</td>\n      <td>televisión</td>\n      <td>ambición</td>\n      <td>mamá</td>\n      <td>mía</td>\n      <td>None</td>\n      <td>None</td>\n    </tr>\n    <tr>\n      <th>3</th>\n      <td>None</td>\n      <td>ocasión</td>\n      <td>rebelión</td>\n      <td>estación</td>\n      <td>presión</td>\n      <td>None</td>\n      <td>None</td>\n    </tr>\n    <tr>\n      <th>4</th>\n      <td>None</td>\n      <td>educación</td>\n      <td>cámara</td>\n      <td>montaña</td>\n      <td>mañana</td>\n      <td>None</td>\n      <td>None</td>\n    </tr>\n    <tr>\n      <th>5</th>\n      <td>None</td>\n      <td>compañía</td>\n      <td>pasión</td>\n      <td>televisión</td>\n      <td>traición</td>\n      <td>None</td>\n      <td>None</td>\n    </tr>\n    <tr>\n      <th>6</th>\n      <td>None</td>\n      <td>poesía</td>\n      <td>fantasía</td>\n      <td>acción</td>\n      <td>situación</td>\n      <td>None</td>\n      <td>None</td>\n    </tr>\n    <tr>\n      <th>7</th>\n      <td>None</td>\n      <td>pensión</td>\n      <td>mamá</td>\n      <td>visión</td>\n      <td>vía</td>\n      <td>None</td>\n      <td>None</td>\n    </tr>\n    <tr>\n      <th>8</th>\n      <td>None</td>\n      <td>canción</td>\n      <td>energía</td>\n      <td>razón</td>\n      <td>manipulación</td>\n      <td>None</td>\n      <td>None</td>\n    </tr>\n    <tr>\n      <th>9</th>\n      <td>None</td>\n      <td>tentación</td>\n      <td>función</td>\n      <td>atmósfera</td>\n      <td>película</td>\n      <td>None</td>\n      <td>None</td>\n    </tr>\n    <tr>\n      <th>10</th>\n      <td>None</td>\n      <td>razón</td>\n      <td>traición</td>\n      <td>niña</td>\n      <td>porquería</td>\n      <td>None</td>\n      <td>None</td>\n    </tr>\n    <tr>\n      <th>11</th>\n      <td>None</td>\n      <td>comunicación</td>\n      <td>porquería</td>\n      <td>canción</td>\n      <td>víctima</td>\n      <td>None</td>\n      <td>None</td>\n    </tr>\n    <tr>\n      <th>12</th>\n      <td>None</td>\n      <td>melodía</td>\n      <td>alegría</td>\n      <td>tío</td>\n      <td>canción</td>\n      <td>None</td>\n      <td>None</td>\n    </tr>\n    <tr>\n      <th>13</th>\n      <td>None</td>\n      <td>música</td>\n      <td>situación</td>\n      <td>callejón</td>\n      <td>producción</td>\n      <td>None</td>\n      <td>None</td>\n    </tr>\n    <tr>\n      <th>14</th>\n      <td>None</td>\n      <td>vía</td>\n      <td>fé</td>\n      <td>robé</td>\n      <td>religión</td>\n      <td>None</td>\n      <td>None</td>\n    </tr>\n    <tr>\n      <th>15</th>\n      <td>None</td>\n      <td>última</td>\n      <td>cayó</td>\n      <td>reflexión</td>\n      <td>misión</td>\n      <td>None</td>\n      <td>None</td>\n    </tr>\n    <tr>\n      <th>16</th>\n      <td>None</td>\n      <td>emoción</td>\n      <td>cuánta</td>\n      <td>peña</td>\n      <td>alegría</td>\n      <td>None</td>\n      <td>None</td>\n    </tr>\n    <tr>\n      <th>17</th>\n      <td>None</td>\n      <td>fantasía</td>\n      <td>bebé</td>\n      <td>corazón</td>\n      <td>unión</td>\n      <td>None</td>\n      <td>None</td>\n    </tr>\n    <tr>\n      <th>18</th>\n      <td>None</td>\n      <td>energía</td>\n      <td>melodías</td>\n      <td>respiración</td>\n      <td>prisión</td>\n      <td>None</td>\n      <td>None</td>\n    </tr>\n    <tr>\n      <th>19</th>\n      <td>None</td>\n      <td>montaña</td>\n      <td>revolución</td>\n      <td>línea</td>\n      <td>mamá</td>\n      <td>None</td>\n      <td>None</td>\n    </tr>\n  </tbody>\n</table>\n</div>"
     },
     "execution_count": 17,
     "metadata": {},
     "output_type": "execute_result"
    }
   ],
   "source": [
    "decade_similarity(\"policía\",x=20)"
   ],
   "metadata": {
    "collapsed": false,
    "ExecuteTime": {
     "end_time": "2023-10-26T14:44:11.044026500Z",
     "start_time": "2023-10-26T14:44:10.835473800Z"
    }
   }
  },
  {
   "cell_type": "code",
   "execution_count": 18,
   "outputs": [
    {
     "data": {
      "text/plain": "    1980        1990           2000        2010          2020  1960  1970\n0   None   educación      educación   educación     educación  None  None\n1   None     ocasión             fé       razón      espíritu  None  None\n2   None  televisión         pasión    espíritu      religión  None  None\n3   None      poesía       fantasía        niña         unión  None  None\n4   None     policía        energía        peña          país  None  None\n5   None      cárcel        alegría  revolución       alegría  None  None\n6   None       razón       obsesión         tía     detención  None  None\n7   None     jóvenes       adicción     alegría        música  None  None\n8   None        papá           mamá      música          oído  None  None\n9   None     campeón        corazón    religión      traición  None  None\n10  None  difamación       rebelión       única  narcotráfico  None  None\n11  None    fantasía      salvación      visión     depresión  None  None\n12  None       quién        ilusión        mamá       américa  None  None\n13  None        frío           país     emoción        género  None  None\n14  None   tentación         cárcel     canción      política  None  None\n15  None    compañía           frío       unión       prisión  None  None\n16  None     salomón  contradicción       niñez          mamá  None  None\n17  None     enseñar       ambición     policía       energía  None  None\n18  None      sueños    imaginación    compañía         niños  None  None\n19  None      pasión      compañera    atención        pánico  None  None",
      "text/html": "<div>\n<style scoped>\n    .dataframe tbody tr th:only-of-type {\n        vertical-align: middle;\n    }\n\n    .dataframe tbody tr th {\n        vertical-align: top;\n    }\n\n    .dataframe thead th {\n        text-align: right;\n    }\n</style>\n<table border=\"1\" class=\"dataframe\">\n  <thead>\n    <tr style=\"text-align: right;\">\n      <th></th>\n      <th>1980</th>\n      <th>1990</th>\n      <th>2000</th>\n      <th>2010</th>\n      <th>2020</th>\n      <th>1960</th>\n      <th>1970</th>\n    </tr>\n  </thead>\n  <tbody>\n    <tr>\n      <th>0</th>\n      <td>None</td>\n      <td>educación</td>\n      <td>educación</td>\n      <td>educación</td>\n      <td>educación</td>\n      <td>None</td>\n      <td>None</td>\n    </tr>\n    <tr>\n      <th>1</th>\n      <td>None</td>\n      <td>ocasión</td>\n      <td>fé</td>\n      <td>razón</td>\n      <td>espíritu</td>\n      <td>None</td>\n      <td>None</td>\n    </tr>\n    <tr>\n      <th>2</th>\n      <td>None</td>\n      <td>televisión</td>\n      <td>pasión</td>\n      <td>espíritu</td>\n      <td>religión</td>\n      <td>None</td>\n      <td>None</td>\n    </tr>\n    <tr>\n      <th>3</th>\n      <td>None</td>\n      <td>poesía</td>\n      <td>fantasía</td>\n      <td>niña</td>\n      <td>unión</td>\n      <td>None</td>\n      <td>None</td>\n    </tr>\n    <tr>\n      <th>4</th>\n      <td>None</td>\n      <td>policía</td>\n      <td>energía</td>\n      <td>peña</td>\n      <td>país</td>\n      <td>None</td>\n      <td>None</td>\n    </tr>\n    <tr>\n      <th>5</th>\n      <td>None</td>\n      <td>cárcel</td>\n      <td>alegría</td>\n      <td>revolución</td>\n      <td>alegría</td>\n      <td>None</td>\n      <td>None</td>\n    </tr>\n    <tr>\n      <th>6</th>\n      <td>None</td>\n      <td>razón</td>\n      <td>obsesión</td>\n      <td>tía</td>\n      <td>detención</td>\n      <td>None</td>\n      <td>None</td>\n    </tr>\n    <tr>\n      <th>7</th>\n      <td>None</td>\n      <td>jóvenes</td>\n      <td>adicción</td>\n      <td>alegría</td>\n      <td>música</td>\n      <td>None</td>\n      <td>None</td>\n    </tr>\n    <tr>\n      <th>8</th>\n      <td>None</td>\n      <td>papá</td>\n      <td>mamá</td>\n      <td>música</td>\n      <td>oído</td>\n      <td>None</td>\n      <td>None</td>\n    </tr>\n    <tr>\n      <th>9</th>\n      <td>None</td>\n      <td>campeón</td>\n      <td>corazón</td>\n      <td>religión</td>\n      <td>traición</td>\n      <td>None</td>\n      <td>None</td>\n    </tr>\n    <tr>\n      <th>10</th>\n      <td>None</td>\n      <td>difamación</td>\n      <td>rebelión</td>\n      <td>única</td>\n      <td>narcotráfico</td>\n      <td>None</td>\n      <td>None</td>\n    </tr>\n    <tr>\n      <th>11</th>\n      <td>None</td>\n      <td>fantasía</td>\n      <td>salvación</td>\n      <td>visión</td>\n      <td>depresión</td>\n      <td>None</td>\n      <td>None</td>\n    </tr>\n    <tr>\n      <th>12</th>\n      <td>None</td>\n      <td>quién</td>\n      <td>ilusión</td>\n      <td>mamá</td>\n      <td>américa</td>\n      <td>None</td>\n      <td>None</td>\n    </tr>\n    <tr>\n      <th>13</th>\n      <td>None</td>\n      <td>frío</td>\n      <td>país</td>\n      <td>emoción</td>\n      <td>género</td>\n      <td>None</td>\n      <td>None</td>\n    </tr>\n    <tr>\n      <th>14</th>\n      <td>None</td>\n      <td>tentación</td>\n      <td>cárcel</td>\n      <td>canción</td>\n      <td>política</td>\n      <td>None</td>\n      <td>None</td>\n    </tr>\n    <tr>\n      <th>15</th>\n      <td>None</td>\n      <td>compañía</td>\n      <td>frío</td>\n      <td>unión</td>\n      <td>prisión</td>\n      <td>None</td>\n      <td>None</td>\n    </tr>\n    <tr>\n      <th>16</th>\n      <td>None</td>\n      <td>salomón</td>\n      <td>contradicción</td>\n      <td>niñez</td>\n      <td>mamá</td>\n      <td>None</td>\n      <td>None</td>\n    </tr>\n    <tr>\n      <th>17</th>\n      <td>None</td>\n      <td>enseñar</td>\n      <td>ambición</td>\n      <td>policía</td>\n      <td>energía</td>\n      <td>None</td>\n      <td>None</td>\n    </tr>\n    <tr>\n      <th>18</th>\n      <td>None</td>\n      <td>sueños</td>\n      <td>imaginación</td>\n      <td>compañía</td>\n      <td>niños</td>\n      <td>None</td>\n      <td>None</td>\n    </tr>\n    <tr>\n      <th>19</th>\n      <td>None</td>\n      <td>pasión</td>\n      <td>compañera</td>\n      <td>atención</td>\n      <td>pánico</td>\n      <td>None</td>\n      <td>None</td>\n    </tr>\n  </tbody>\n</table>\n</div>"
     },
     "execution_count": 18,
     "metadata": {},
     "output_type": "execute_result"
    }
   ],
   "source": [
    "decade_similarity(\"educación\",x=20)"
   ],
   "metadata": {
    "collapsed": false,
    "ExecuteTime": {
     "end_time": "2023-10-26T14:44:11.214009400Z",
     "start_time": "2023-10-26T14:44:11.044026500Z"
    }
   }
  },
  {
   "cell_type": "code",
   "execution_count": 21,
   "outputs": [],
   "source": [],
   "metadata": {
    "collapsed": false,
    "ExecuteTime": {
     "end_time": "2023-10-26T14:44:11.403992800Z",
     "start_time": "2023-10-26T14:44:11.281878100Z"
    }
   }
  }
 ],
 "metadata": {
  "kernelspec": {
   "display_name": "Python 3",
   "language": "python",
   "name": "python3"
  },
  "language_info": {
   "codemirror_mode": {
    "name": "ipython",
    "version": 2
   },
   "file_extension": ".py",
   "mimetype": "text/x-python",
   "name": "python",
   "nbconvert_exporter": "python",
   "pygments_lexer": "ipython2",
   "version": "2.7.6"
  }
 },
 "nbformat": 4,
 "nbformat_minor": 0
}
