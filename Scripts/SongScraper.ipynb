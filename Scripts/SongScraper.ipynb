{
 "cells": [
  {
   "cell_type": "code",
   "execution_count": null,
   "metadata": {
    "collapsed": true
   },
   "outputs": [],
   "source": []
  },
  {
   "cell_type": "code",
   "execution_count": 48,
   "outputs": [],
   "source": [
    "import pandas as pd\n",
    "import spotipy\n",
    "from spotipy.oauth2 import SpotifyClientCredentials\n",
    "import lyricsgenius\n",
    "import numpy as np\n",
    "\n",
    "class songScraper:\n",
    "    \"\"\"\n",
    "    A class for scraping songs off spotify API and getting their lyrics from Genius API\n",
    "\n",
    "\n",
    "    \"\"\"\n",
    "\n",
    "    def __init__(self, cid, secret, genius_api_key):\n",
    "        \"\"\"\n",
    "        Initializes the SongScraper class.\n",
    "\n",
    "        :param cid: Spotify API client ID.\n",
    "        :param secret: Spotify API client secret.\n",
    "        :param genius_api_key: Genius API access token.\n",
    "        \"\"\"\n",
    "        self.spotify = spotipy.Spotify(client_credentials_manager=SpotifyClientCredentials(client_id=cid, client_secret=secret))\n",
    "        self.genius = lyricsgenius.Genius(genius_api_key)\n",
    "\n",
    "    def get_artists(self, genre=\"Rock Nacional\", artist_n=5, song_n=5, market=\"AR\",artist_popularity=15):\n",
    "        \"\"\"\n",
    "        Retrieves songs for a specific genre.\n",
    "\n",
    "        :param genre: music genre to search. Default \"Rock Nacional\".\n",
    "        :param artist_n: number of artists to return. Default 5.\n",
    "        :param song_n: number of songs to return for each artist. Default 5.\n",
    "        :param popularity: lower threshold of popularity for artists. Default 15.\n",
    "        :param market: market for the artists. Default \"AR\".\n",
    "\n",
    "        :return: DataFrame containing column witt audio features.\n",
    "        \"\"\"\n",
    "        offset=1\n",
    "        size = artist_n\n",
    "        # Request de search endpoint query=genre, tipo playlist.\n",
    "        response = self.spotify.search(q=genre, type='playlist', market=market, limit=None, offset=offset)\n",
    "\n",
    "        #Extraigo el id de las playlists que devuelve response\n",
    "        playlists = [playlist['id'] for playlist in response['playlists']['items']]\n",
    "\n",
    "        #Creo una lista vacia que se convertirá en el df final y un set de artistas para comprobar repeticiones\n",
    "        artists_data = []\n",
    "        seen_artist_ids = set()\n",
    "\n",
    "        # While loop para obtener la cantidad de artistas especificada en size\n",
    "\n",
    "        while size is None or len(artists_data) < size:\n",
    "            #itero sobre cada playlist ID\n",
    "            for playlist_id in playlists:\n",
    "                results = self.spotify.playlist_tracks(playlist_id)\n",
    "                tracks = results['items']\n",
    "\n",
    "                # Itero sobre todos los tracks de la playlist\n",
    "                for track in tracks:\n",
    "                    track_info = track['track']\n",
    "\n",
    "                    # Itero sobre los artistas de cada track\n",
    "                    for artist in track_info['artists']:\n",
    "                        artist_id = artist['id']\n",
    "\n",
    "                        # Compruebo repeticiones\n",
    "                        if artist_id not in seen_artist_ids:\n",
    "                            seen_artist_ids.add(artist_id)\n",
    "\n",
    "\n",
    "                            # Intento obtener más información del artista\n",
    "                            try:\n",
    "                                artist_data = self.spotify.artist(artist_id)\n",
    "                            except:\n",
    "                                artist_data = None\n",
    "\n",
    "                            # Compruebo si el artista produce rock nacional\n",
    "                            #if artist_data is not None and (\"argentine rock\" in artist_data[\"genres\"] or \"rock nacional\" in artist_data[\"genres\"]):\n",
    "\n",
    "                            #Filtro los artistas por un umbral de popularidad\n",
    "                            if artist_data['popularity'] > artist_popularity:\n",
    "\n",
    "                                # Extraigo el nombre, id, genre y popularidad del artista.\n",
    "                                artist_info = {\n",
    "                                    'Artist': artist['name'],\n",
    "                                    'Artist_ID': artist_id,\n",
    "                                    \"Artist_genres\": artist_data['genres'],\n",
    "                                    \"Artist_popularity\": artist_data['popularity']\n",
    "                                }\n",
    "                                artists_data.append(artist_info)\n",
    "\n",
    "                        if size is not None and len(artists_data) >= size:\n",
    "                            break\n",
    "\n",
    "                    if size is not None and len(artists_data) >= size:\n",
    "                        break\n",
    "\n",
    "                if size is not None and len(artists_data) >= size:\n",
    "                    break\n",
    "\n",
    "        df = pd.DataFrame(artists_data)\n",
    "        songs = []\n",
    "        song_id = []\n",
    "        songs_release = []\n",
    "        songs_popularity = []\n",
    "        for i in df[\"Artist\"]:\n",
    "            #Obtengo n tracks para artista\n",
    "            results = self.spotify.search(q=f\"artist:{i}\",  type='track', offset=0, limit=song_n)\n",
    "\n",
    "            #Extraigo canción, id de canción, release y popularidad.\n",
    "            songs.append([result[\"name\"] for result in results[\"tracks\"][\"items\"]])\n",
    "            song_id.append([result[\"id\"] for result in results[\"tracks\"][\"items\"]])\n",
    "            songs_release.append([result[\"album\"][\"release_date\"] for result in results[\"tracks\"][\"items\"]])\n",
    "            songs_popularity.append([result[\"popularity\"] for result in results[\"tracks\"][\"items\"]])\n",
    "        df[\"Track\"] = songs\n",
    "        df[\"Track_ID\"] = song_id\n",
    "        df[\"Track_release_date\"] = songs_release\n",
    "        df[\"Track_popularity\"] = songs_popularity\n",
    "        df = df.explode([\"Track\",\"Track_ID\",\"Track_release_date\",\"Track_popularity\"])\n",
    "\n",
    "        return df\n",
    "\n",
    "    def get_songs(self, n=50, genre=\"\", market=\"AR\"):\n",
    "        \"\"\"\n",
    "       Fetches song data, including track information, artist details, and audio features.\n",
    "\n",
    "       :param n: Number of songs to fetch. Limit: 1000. See get_artists method for a bigger number of songs.\n",
    "       :param genre: Music genre to fetch.\n",
    "       :param market: Market on which to fetch songs. Defaults to AR.\n",
    "       :return: DataFrame containing song data.\n",
    "       \"\"\"\n",
    "        offset = 0  # You can adjust the offset as needed\n",
    "        songs_data = []\n",
    "\n",
    "        while len(songs_data) < n:\n",
    "            results = self.spotify.search(q=f'genre:\"{genre}\"', type='track', limit=50, offset=offset, market=market)\n",
    "            for track in results['tracks']['items']:\n",
    "                track_name = track['name']\n",
    "                track_id = track[\"id\"]\n",
    "                track_release_date = track['album']['release_date']\n",
    "                track_popularity = track['popularity']\n",
    "                artist_data = track['artists'][0]  # Assuming a single artist for simplicity\n",
    "                artist_id = artist_data['id']\n",
    "                artist_name = artist_data['name']\n",
    "                artist_popularity = self.get_artist_popularity(artist_id)\n",
    "                artist_genres = self.get_artist_genres(artist_id)\n",
    "                album_name = track['album']['name']\n",
    "                songs_data.append({'Track': track_name,\"Track_ID\": track_id ,\"Track_release_date\": track_release_date,\"Track_popularity\": track_popularity,'Artist': artist_name, 'Artist_ID': artist_id, 'Artist_Popularity': artist_popularity, 'Artist_Genres': artist_genres, 'Album': album_name})\n",
    "\n",
    "                if len(songs_data) >= n:\n",
    "                    break\n",
    "\n",
    "            offset += 50\n",
    "\n",
    "        return pd.DataFrame(songs_data)\n",
    "\n",
    "    def get_artist_popularity(self, artist_id):\n",
    "        try:\n",
    "            artist_data = self.spotify.artist(artist_id)\n",
    "            return artist_data['popularity']\n",
    "        except:\n",
    "            return \"nan\"\n",
    "\n",
    "    def get_artist_genres(self, artist_id):\n",
    "        artist_data = self.spotify.artist(artist_id)\n",
    "        return artist_data['genres']\n",
    "\n",
    "    def get_audio_features(self, df):\n",
    "        \"\"\"\n",
    "        Retrieves audio features for a song using its Spotify track ID.\n",
    "\n",
    "        :param df: dataframe with column with \"Track_ID\".\n",
    "        :return: DataFrame containing column witt audio features.\n",
    "        \"\"\"\n",
    "    # Extraigo los audio features para cada canción\n",
    "        features = []\n",
    "        for i in df[\"Track_ID\"]:\n",
    "            try:\n",
    "                feature = self.spotify.audio_features(i)\n",
    "                if feature:\n",
    "                    feature = {k: feature[0][k] for k in list(feature[0])[:11]}\n",
    "                else:\n",
    "                    feature = \"nan\"\n",
    "            except:\n",
    "                feature = \"nan\"\n",
    "            features.append(feature)\n",
    "        df[\"features_dict\"] = features\n",
    "        return df\n",
    "\n",
    "    def get_lyrics(self, df):\n",
    "        \"\"\"\n",
    "        Fetches lyrics for songs in a DataFrame using the Genius API.\n",
    "\n",
    "        :param df: DataFrame containing song data.\n",
    "        :return: DataFrame with added \"Lyrics\" column.\n",
    "        \"\"\"\n",
    "        lyrics = []\n",
    "\n",
    "        total_rows = len(df)\n",
    "        for idx, row in df.iterrows():\n",
    "            progress = f\"Fetching Lyrics: {idx+1}/{total_rows}\"\n",
    "            print(progress, end=\"\\r\")  # Print with carriage return to overwrite previous line\n",
    "\n",
    "            try:\n",
    "                song = self.genius.search_song(row[\"Track\"], row[\"Artist\"])\n",
    "                if song:\n",
    "                    lyrics.append(song.lyrics)\n",
    "                else:\n",
    "                    lyrics.append(\"nan\")\n",
    "            except Exception as e:\n",
    "                print(f\"Error occurred: {e}\")\n",
    "                lyrics.append(\"nan\")\n",
    "\n",
    "        print()  # Print a newline after all iterations are done\n",
    "        df[\"Lyrics\"] = lyrics\n",
    "        return df\n",
    "\n",
    "    def get_id(self,artist_name):\n",
    "        try:\n",
    "            # Search for the artist\n",
    "            results = self.spotify.search(q=artist_name, type='artist', limit=1)\n",
    "\n",
    "            # Extract the artist ID if found\n",
    "            if 'artists' in results and 'items' in results['artists'] and len(results['artists']['items']) > 0:\n",
    "                artist_id = results['artists']['items'][0]['id']\n",
    "                return artist_id\n",
    "            else:\n",
    "                print(f\"Artist '{artist_name}' not found.\")\n",
    "                return None\n",
    "\n",
    "        except spotipy.SpotifyException as e:\n",
    "            print(f\"Spotipy error: {e}\")\n",
    "            return None\n"
   ],
   "metadata": {
    "collapsed": false,
    "ExecuteTime": {
     "end_time": "2023-09-23T21:18:05.908376700Z",
     "start_time": "2023-09-23T21:18:05.877126700Z"
    }
   }
  },
  {
   "cell_type": "code",
   "execution_count": 49,
   "outputs": [],
   "source": [
    "music = songScraper(cid=\"82c6e48354394b06956482e5ca4491b3\",secret=\"71dcf5d5e38d451589cd5b521184928d\",genius_api_key=\"0PiAxG73oHP3bj_nFttt-mdd25RMUO8d2kElPJHRUfSdnIMKKu7Il-lRO7dddwPR\")"
   ],
   "metadata": {
    "collapsed": false,
    "ExecuteTime": {
     "end_time": "2023-09-23T21:18:06.956548900Z",
     "start_time": "2023-09-23T21:18:06.925299Z"
    }
   }
  },
  {
   "cell_type": "code",
   "execution_count": 19,
   "outputs": [
    {
     "data": {
      "text/plain": "0                 A-Tirador Láser\n1                 A-Tirador Láser\n2                 A-Tirador Láser\n3                 A-Tirador Láser\n4                 A-Tirador Láser\n                   ...           \n21873        jorge padula perkins\n21874    francisco garcia jimenez\n21875    enrique santos discepolo\n21876                 maximo orsi\n21877              enrique lorenz\nName: artista, Length: 21878, dtype: object"
     },
     "execution_count": 19,
     "metadata": {},
     "output_type": "execute_result"
    }
   ],
   "source": [
    "df = pd.read_csv(\"https://gefero.github.io/factor_data_track_CSS/M4/practica_integradora_1/data/tango_rock.csv\")\n",
    "df[\"artista\"]"
   ],
   "metadata": {
    "collapsed": false,
    "ExecuteTime": {
     "end_time": "2023-09-23T19:44:28.930604800Z",
     "start_time": "2023-09-23T19:44:21.948755300Z"
    }
   }
  },
  {
   "cell_type": "code",
   "execution_count": 40,
   "outputs": [
    {
     "name": "stdout",
     "output_type": "stream",
     "text": [
      "Artist 'Cualquier Limón' not found.\n",
      "Artist 'Dum69' not found.\n",
      "Artist 'Hallibour Fiberglass Sereneiders' not found.\n"
     ]
    },
    {
     "data": {
      "text/plain": "                                                         artista  \\\nartista                                                            \nA-Tirador Láser                                  A-Tirador Láser   \nA.N.I.M.A.L.                                        A.N.I.M.A.L.   \nAbril a Mil                                          Abril a Mil   \nAbterno                                                  Abterno   \nAcorazado Potemkin                            Acorazado Potemkin   \n...                                                          ...   \nyacare                                                    yacare   \nyaguaron                                                yaguaron   \nyaravi                                                    yaravi   \nyelma baldi                                          yelma baldi   \nÉl Mató a un Policía Motorizado  Él Mató a un Policía Motorizado   \n\n                                                     id  \nartista                                                  \nA-Tirador Láser                  7pHZKUfpbFMZoMaBOg2jwH  \nA.N.I.M.A.L.                     6eoz7BtTcC5Q303xQtSgj9  \nAbril a Mil                      0X9HIxFmynjrSOzbBv7uoM  \nAbterno                          1iXLcpr2SlUwrU2oCP8nI9  \nAcorazado Potemkin               4QDSqX4vtsftXfEAlKBVXR  \n...                                                 ...  \nyacare                           0G6VQf773ZIIYkKs8QnW1V  \nyaguaron                         1CajkwEgJac9j9alNJJxTQ  \nyaravi                           0g3UV4KTsBXySBgxKtNUFG  \nyelma baldi                      7kwCkEJ384PWm0UQW3hxjS  \nÉl Mató a un Policía Motorizado  5rLsN2LxYaEPLa1N7I2mPB  \n\n[1796 rows x 2 columns]",
      "text/html": "<div>\n<style scoped>\n    .dataframe tbody tr th:only-of-type {\n        vertical-align: middle;\n    }\n\n    .dataframe tbody tr th {\n        vertical-align: top;\n    }\n\n    .dataframe thead th {\n        text-align: right;\n    }\n</style>\n<table border=\"1\" class=\"dataframe\">\n  <thead>\n    <tr style=\"text-align: right;\">\n      <th></th>\n      <th>artista</th>\n      <th>id</th>\n    </tr>\n    <tr>\n      <th>artista</th>\n      <th></th>\n      <th></th>\n    </tr>\n  </thead>\n  <tbody>\n    <tr>\n      <th>A-Tirador Láser</th>\n      <td>A-Tirador Láser</td>\n      <td>7pHZKUfpbFMZoMaBOg2jwH</td>\n    </tr>\n    <tr>\n      <th>A.N.I.M.A.L.</th>\n      <td>A.N.I.M.A.L.</td>\n      <td>6eoz7BtTcC5Q303xQtSgj9</td>\n    </tr>\n    <tr>\n      <th>Abril a Mil</th>\n      <td>Abril a Mil</td>\n      <td>0X9HIxFmynjrSOzbBv7uoM</td>\n    </tr>\n    <tr>\n      <th>Abterno</th>\n      <td>Abterno</td>\n      <td>1iXLcpr2SlUwrU2oCP8nI9</td>\n    </tr>\n    <tr>\n      <th>Acorazado Potemkin</th>\n      <td>Acorazado Potemkin</td>\n      <td>4QDSqX4vtsftXfEAlKBVXR</td>\n    </tr>\n    <tr>\n      <th>...</th>\n      <td>...</td>\n      <td>...</td>\n    </tr>\n    <tr>\n      <th>yacare</th>\n      <td>yacare</td>\n      <td>0G6VQf773ZIIYkKs8QnW1V</td>\n    </tr>\n    <tr>\n      <th>yaguaron</th>\n      <td>yaguaron</td>\n      <td>1CajkwEgJac9j9alNJJxTQ</td>\n    </tr>\n    <tr>\n      <th>yaravi</th>\n      <td>yaravi</td>\n      <td>0g3UV4KTsBXySBgxKtNUFG</td>\n    </tr>\n    <tr>\n      <th>yelma baldi</th>\n      <td>yelma baldi</td>\n      <td>7kwCkEJ384PWm0UQW3hxjS</td>\n    </tr>\n    <tr>\n      <th>Él Mató a un Policía Motorizado</th>\n      <td>Él Mató a un Policía Motorizado</td>\n      <td>5rLsN2LxYaEPLa1N7I2mPB</td>\n    </tr>\n  </tbody>\n</table>\n<p>1796 rows × 2 columns</p>\n</div>"
     },
     "execution_count": 40,
     "metadata": {},
     "output_type": "execute_result"
    }
   ],
   "source": [
    "id = pd.DataFrame(df.groupby(\"artista\")[\"artista\"].first())\n",
    "\n",
    "id[\"id\"] = id[\"artista\"].apply(music.get_id)\n",
    "id"
   ],
   "metadata": {
    "collapsed": false,
    "ExecuteTime": {
     "end_time": "2023-09-23T21:13:59.090618100Z",
     "start_time": "2023-09-23T21:04:16.302853900Z"
    }
   }
  },
  {
   "cell_type": "code",
   "execution_count": 50,
   "outputs": [],
   "source": [
    "id[\"popularidad_spotify\"] = id[\"id\"].apply(music.get_artist_popularity)"
   ],
   "metadata": {
    "collapsed": false,
    "ExecuteTime": {
     "end_time": "2023-09-23T21:25:19.632299Z",
     "start_time": "2023-09-23T21:18:11.097228300Z"
    }
   }
  },
  {
   "cell_type": "code",
   "execution_count": 54,
   "outputs": [
    {
     "ename": "TypeError",
     "evalue": "'<' not supported between instances of 'int' and 'str'",
     "output_type": "error",
     "traceback": [
      "\u001B[1;31m---------------------------------------------------------------------------\u001B[0m",
      "\u001B[1;31mTypeError\u001B[0m                                 Traceback (most recent call last)",
      "Cell \u001B[1;32mIn[54], line 1\u001B[0m\n\u001B[1;32m----> 1\u001B[0m \u001B[38;5;28;43mid\u001B[39;49m\u001B[38;5;241;43m.\u001B[39;49m\u001B[43msort_values\u001B[49m\u001B[43m(\u001B[49m\u001B[43mby\u001B[49m\u001B[38;5;241;43m=\u001B[39;49m\u001B[38;5;124;43m\"\u001B[39;49m\u001B[38;5;124;43mpopularidad_spotify\u001B[39;49m\u001B[38;5;124;43m\"\u001B[39;49m\u001B[43m,\u001B[49m\u001B[43mascending\u001B[49m\u001B[38;5;241;43m=\u001B[39;49m\u001B[38;5;28;43;01mFalse\u001B[39;49;00m\u001B[43m)\u001B[49m\n",
      "File \u001B[1;32mC:\\Users\\nunez\\Work\\DataSpell\\Venvs\\lib\\site-packages\\pandas\\core\\frame.py:6769\u001B[0m, in \u001B[0;36mDataFrame.sort_values\u001B[1;34m(self, by, axis, ascending, inplace, kind, na_position, ignore_index, key)\u001B[0m\n\u001B[0;32m   6766\u001B[0m     \u001B[38;5;28;01mif\u001B[39;00m \u001B[38;5;28misinstance\u001B[39m(ascending, (\u001B[38;5;28mtuple\u001B[39m, \u001B[38;5;28mlist\u001B[39m)):\n\u001B[0;32m   6767\u001B[0m         ascending \u001B[38;5;241m=\u001B[39m ascending[\u001B[38;5;241m0\u001B[39m]\n\u001B[1;32m-> 6769\u001B[0m     indexer \u001B[38;5;241m=\u001B[39m \u001B[43mnargsort\u001B[49m\u001B[43m(\u001B[49m\n\u001B[0;32m   6770\u001B[0m \u001B[43m        \u001B[49m\u001B[43mk\u001B[49m\u001B[43m,\u001B[49m\u001B[43m \u001B[49m\u001B[43mkind\u001B[49m\u001B[38;5;241;43m=\u001B[39;49m\u001B[43mkind\u001B[49m\u001B[43m,\u001B[49m\u001B[43m \u001B[49m\u001B[43mascending\u001B[49m\u001B[38;5;241;43m=\u001B[39;49m\u001B[43mascending\u001B[49m\u001B[43m,\u001B[49m\u001B[43m \u001B[49m\u001B[43mna_position\u001B[49m\u001B[38;5;241;43m=\u001B[39;49m\u001B[43mna_position\u001B[49m\u001B[43m,\u001B[49m\u001B[43m \u001B[49m\u001B[43mkey\u001B[49m\u001B[38;5;241;43m=\u001B[39;49m\u001B[43mkey\u001B[49m\n\u001B[0;32m   6771\u001B[0m \u001B[43m    \u001B[49m\u001B[43m)\u001B[49m\n\u001B[0;32m   6772\u001B[0m \u001B[38;5;28;01melse\u001B[39;00m:\n\u001B[0;32m   6773\u001B[0m     \u001B[38;5;28;01mif\u001B[39;00m inplace:\n",
      "File \u001B[1;32mC:\\Users\\nunez\\Work\\DataSpell\\Venvs\\lib\\site-packages\\pandas\\core\\sorting.py:429\u001B[0m, in \u001B[0;36mnargsort\u001B[1;34m(items, kind, ascending, na_position, key, mask)\u001B[0m\n\u001B[0;32m    427\u001B[0m     non_nans \u001B[38;5;241m=\u001B[39m non_nans[::\u001B[38;5;241m-\u001B[39m\u001B[38;5;241m1\u001B[39m]\n\u001B[0;32m    428\u001B[0m     non_nan_idx \u001B[38;5;241m=\u001B[39m non_nan_idx[::\u001B[38;5;241m-\u001B[39m\u001B[38;5;241m1\u001B[39m]\n\u001B[1;32m--> 429\u001B[0m indexer \u001B[38;5;241m=\u001B[39m non_nan_idx[\u001B[43mnon_nans\u001B[49m\u001B[38;5;241;43m.\u001B[39;49m\u001B[43margsort\u001B[49m\u001B[43m(\u001B[49m\u001B[43mkind\u001B[49m\u001B[38;5;241;43m=\u001B[39;49m\u001B[43mkind\u001B[49m\u001B[43m)\u001B[49m]\n\u001B[0;32m    430\u001B[0m \u001B[38;5;28;01mif\u001B[39;00m \u001B[38;5;129;01mnot\u001B[39;00m ascending:\n\u001B[0;32m    431\u001B[0m     indexer \u001B[38;5;241m=\u001B[39m indexer[::\u001B[38;5;241m-\u001B[39m\u001B[38;5;241m1\u001B[39m]\n",
      "\u001B[1;31mTypeError\u001B[0m: '<' not supported between instances of 'int' and 'str'"
     ]
    }
   ],
   "source": [
    "id.sort_values(by=\"popularidad_spotify\",ascending=False)"
   ],
   "metadata": {
    "collapsed": false,
    "ExecuteTime": {
     "end_time": "2023-09-23T21:27:29.356410500Z",
     "start_time": "2023-09-23T21:27:29.309536600Z"
    }
   }
  },
  {
   "cell_type": "code",
   "execution_count": 59,
   "outputs": [],
   "source": [
    "id.to_excel(r\"C:\\Users\\PC\\Desktop\\Popularidad_canciones.xlsx\")"
   ],
   "metadata": {
    "collapsed": false,
    "ExecuteTime": {
     "end_time": "2023-09-23T21:31:37.139613300Z",
     "start_time": "2023-09-23T21:31:36.924384200Z"
    }
   }
  },
  {
   "cell_type": "code",
   "execution_count": 58,
   "outputs": [
    {
     "data": {
      "text/plain": "                                                           artista  \\\nartista                                                              \nPlum                                                          Plum   \nPez                                                            Pez   \nZAS                                                            ZAS   \nMalón                                                        Malón   \nAfricana                                                  Africana   \n...                                                            ...   \njuan augusto                                          juan augusto   \nanibal de iturriaga                            anibal de iturriaga   \nCualquier Limón                                    Cualquier Limón   \nDum69                                                        Dum69   \nHallibour Fiberglass Sereneiders  Hallibour Fiberglass Sereneiders   \n\n                                                      id  popularidad_spotify  \nartista                                                                        \nPlum                              12GqGscKJx3aE4t07u7eVZ                 93.0  \nPez                               12GqGscKJx3aE4t07u7eVZ                 93.0  \nZAS                               40ZNYROS4zLfyyBSs2PGe2                 89.0  \nMalón                             246dkjvS1zLTtiykXe5h60                 89.0  \nAfricana                          66CXWjxzNUsdJxJ2JdwvnR                 87.0  \n...                                                  ...                  ...  \njuan augusto                      4QxUPd2C4apTMIer7cx4t0                  0.0  \nanibal de iturriaga               1zTMhx7WaaQ3Ox9UZFhJMW                  0.0  \nCualquier Limón                                     None                  NaN  \nDum69                                               None                  NaN  \nHallibour Fiberglass Sereneiders                    None                  NaN  \n\n[1796 rows x 3 columns]",
      "text/html": "<div>\n<style scoped>\n    .dataframe tbody tr th:only-of-type {\n        vertical-align: middle;\n    }\n\n    .dataframe tbody tr th {\n        vertical-align: top;\n    }\n\n    .dataframe thead th {\n        text-align: right;\n    }\n</style>\n<table border=\"1\" class=\"dataframe\">\n  <thead>\n    <tr style=\"text-align: right;\">\n      <th></th>\n      <th>artista</th>\n      <th>id</th>\n      <th>popularidad_spotify</th>\n    </tr>\n    <tr>\n      <th>artista</th>\n      <th></th>\n      <th></th>\n      <th></th>\n    </tr>\n  </thead>\n  <tbody>\n    <tr>\n      <th>Plum</th>\n      <td>Plum</td>\n      <td>12GqGscKJx3aE4t07u7eVZ</td>\n      <td>93.0</td>\n    </tr>\n    <tr>\n      <th>Pez</th>\n      <td>Pez</td>\n      <td>12GqGscKJx3aE4t07u7eVZ</td>\n      <td>93.0</td>\n    </tr>\n    <tr>\n      <th>ZAS</th>\n      <td>ZAS</td>\n      <td>40ZNYROS4zLfyyBSs2PGe2</td>\n      <td>89.0</td>\n    </tr>\n    <tr>\n      <th>Malón</th>\n      <td>Malón</td>\n      <td>246dkjvS1zLTtiykXe5h60</td>\n      <td>89.0</td>\n    </tr>\n    <tr>\n      <th>Africana</th>\n      <td>Africana</td>\n      <td>66CXWjxzNUsdJxJ2JdwvnR</td>\n      <td>87.0</td>\n    </tr>\n    <tr>\n      <th>...</th>\n      <td>...</td>\n      <td>...</td>\n      <td>...</td>\n    </tr>\n    <tr>\n      <th>juan augusto</th>\n      <td>juan augusto</td>\n      <td>4QxUPd2C4apTMIer7cx4t0</td>\n      <td>0.0</td>\n    </tr>\n    <tr>\n      <th>anibal de iturriaga</th>\n      <td>anibal de iturriaga</td>\n      <td>1zTMhx7WaaQ3Ox9UZFhJMW</td>\n      <td>0.0</td>\n    </tr>\n    <tr>\n      <th>Cualquier Limón</th>\n      <td>Cualquier Limón</td>\n      <td>None</td>\n      <td>NaN</td>\n    </tr>\n    <tr>\n      <th>Dum69</th>\n      <td>Dum69</td>\n      <td>None</td>\n      <td>NaN</td>\n    </tr>\n    <tr>\n      <th>Hallibour Fiberglass Sereneiders</th>\n      <td>Hallibour Fiberglass Sereneiders</td>\n      <td>None</td>\n      <td>NaN</td>\n    </tr>\n  </tbody>\n</table>\n<p>1796 rows × 3 columns</p>\n</div>"
     },
     "execution_count": 58,
     "metadata": {},
     "output_type": "execute_result"
    }
   ],
   "source": [
    "id['popularidad_spotify'] = id['popularidad_spotify'].replace('nan', np.nan)\n",
    "id.sort_values(by=\"popularidad_spotify\",ascending=False)"
   ],
   "metadata": {
    "collapsed": false,
    "ExecuteTime": {
     "end_time": "2023-09-23T21:31:09.047472100Z",
     "start_time": "2023-09-23T21:31:09.016232100Z"
    }
   }
  },
  {
   "cell_type": "code",
   "execution_count": 63,
   "outputs": [
    {
     "data": {
      "text/plain": "                                                    link   fecha  \\\n0           https://rock.com.ar/artistas/93/letras/12635  2004.0   \n1            https://rock.com.ar/artistas/93/letras/4456  1998.0   \n2           https://rock.com.ar/artistas/93/letras/12643  2002.0   \n3           https://rock.com.ar/artistas/93/letras/12629  2004.0   \n4            https://rock.com.ar/artistas/93/letras/4447  1996.0   \n...                                                  ...     ...   \n21873  http://www.todotango.com/musica/tema/8916/Y-ve...     NaN   \n21874  http://www.todotango.com/musica/tema/123/Ya-es...  1934.0   \n21875  http://www.todotango.com/musica/tema/167/Yira-...  1930.0   \n21876  http://www.todotango.com/musica/tema/2716/Yo-s...  1934.0   \n21877  http://www.todotango.com/musica/tema/7669/Yo-t...  1927.0   \n\n                        artista                  titulo  \\\n0               A-Tirador Láser           ¿Despertarás?   \n1               A-Tirador Láser                    Acao   \n2               A-Tirador Láser              Admiración   \n3               A-Tirador Láser              Algo nuevo   \n4               A-Tirador Láser          Armas del bien   \n...                         ...                     ...   \n21873      jorge padula perkins            y veo llover   \n21874  francisco garcia jimenez      ya estamos iguales   \n21875  enrique santos discepolo               yira yira   \n21876               maximo orsi   yo soy aquel muchacho   \n21877            enrique lorenz  yo tambien era dichoso   \n\n                                                   letra genero  \n0      Siento que se aleja / un poco antes de descarg...   rock  \n1      Amor eterno me invernas bajo la espada santo m...   rock  \n2      Vida es vida aqui, no hay temor al fin / vamos...   rock  \n3      Veo que todos debieron partir, / junto con tod...   rock  \n4      El tiempo se vio entregado / y el cielo mando ...   rock  \n...                                                  ...    ...  \n21873  version para cantante masculino | estoy mirand...  tango  \n21874  mi noche es tu noche | mi llanto tu llanto | m...  tango  \n21875  cuando la suerte qu' es grela | fayando y faya...  tango  \n21876  ya paso la primavera con sus flores | golondri...  tango  \n21877  las campanas | alegremente repicaron | para en...  tango  \n\n[21878 rows x 6 columns]",
      "text/html": "<div>\n<style scoped>\n    .dataframe tbody tr th:only-of-type {\n        vertical-align: middle;\n    }\n\n    .dataframe tbody tr th {\n        vertical-align: top;\n    }\n\n    .dataframe thead th {\n        text-align: right;\n    }\n</style>\n<table border=\"1\" class=\"dataframe\">\n  <thead>\n    <tr style=\"text-align: right;\">\n      <th></th>\n      <th>link</th>\n      <th>fecha</th>\n      <th>artista</th>\n      <th>titulo</th>\n      <th>letra</th>\n      <th>genero</th>\n    </tr>\n  </thead>\n  <tbody>\n    <tr>\n      <th>0</th>\n      <td>https://rock.com.ar/artistas/93/letras/12635</td>\n      <td>2004.0</td>\n      <td>A-Tirador Láser</td>\n      <td>¿Despertarás?</td>\n      <td>Siento que se aleja / un poco antes de descarg...</td>\n      <td>rock</td>\n    </tr>\n    <tr>\n      <th>1</th>\n      <td>https://rock.com.ar/artistas/93/letras/4456</td>\n      <td>1998.0</td>\n      <td>A-Tirador Láser</td>\n      <td>Acao</td>\n      <td>Amor eterno me invernas bajo la espada santo m...</td>\n      <td>rock</td>\n    </tr>\n    <tr>\n      <th>2</th>\n      <td>https://rock.com.ar/artistas/93/letras/12643</td>\n      <td>2002.0</td>\n      <td>A-Tirador Láser</td>\n      <td>Admiración</td>\n      <td>Vida es vida aqui, no hay temor al fin / vamos...</td>\n      <td>rock</td>\n    </tr>\n    <tr>\n      <th>3</th>\n      <td>https://rock.com.ar/artistas/93/letras/12629</td>\n      <td>2004.0</td>\n      <td>A-Tirador Láser</td>\n      <td>Algo nuevo</td>\n      <td>Veo que todos debieron partir, / junto con tod...</td>\n      <td>rock</td>\n    </tr>\n    <tr>\n      <th>4</th>\n      <td>https://rock.com.ar/artistas/93/letras/4447</td>\n      <td>1996.0</td>\n      <td>A-Tirador Láser</td>\n      <td>Armas del bien</td>\n      <td>El tiempo se vio entregado / y el cielo mando ...</td>\n      <td>rock</td>\n    </tr>\n    <tr>\n      <th>...</th>\n      <td>...</td>\n      <td>...</td>\n      <td>...</td>\n      <td>...</td>\n      <td>...</td>\n      <td>...</td>\n    </tr>\n    <tr>\n      <th>21873</th>\n      <td>http://www.todotango.com/musica/tema/8916/Y-ve...</td>\n      <td>NaN</td>\n      <td>jorge padula perkins</td>\n      <td>y veo llover</td>\n      <td>version para cantante masculino | estoy mirand...</td>\n      <td>tango</td>\n    </tr>\n    <tr>\n      <th>21874</th>\n      <td>http://www.todotango.com/musica/tema/123/Ya-es...</td>\n      <td>1934.0</td>\n      <td>francisco garcia jimenez</td>\n      <td>ya estamos iguales</td>\n      <td>mi noche es tu noche | mi llanto tu llanto | m...</td>\n      <td>tango</td>\n    </tr>\n    <tr>\n      <th>21875</th>\n      <td>http://www.todotango.com/musica/tema/167/Yira-...</td>\n      <td>1930.0</td>\n      <td>enrique santos discepolo</td>\n      <td>yira yira</td>\n      <td>cuando la suerte qu' es grela | fayando y faya...</td>\n      <td>tango</td>\n    </tr>\n    <tr>\n      <th>21876</th>\n      <td>http://www.todotango.com/musica/tema/2716/Yo-s...</td>\n      <td>1934.0</td>\n      <td>maximo orsi</td>\n      <td>yo soy aquel muchacho</td>\n      <td>ya paso la primavera con sus flores | golondri...</td>\n      <td>tango</td>\n    </tr>\n    <tr>\n      <th>21877</th>\n      <td>http://www.todotango.com/musica/tema/7669/Yo-t...</td>\n      <td>1927.0</td>\n      <td>enrique lorenz</td>\n      <td>yo tambien era dichoso</td>\n      <td>las campanas | alegremente repicaron | para en...</td>\n      <td>tango</td>\n    </tr>\n  </tbody>\n</table>\n<p>21878 rows × 6 columns</p>\n</div>"
     },
     "execution_count": 63,
     "metadata": {},
     "output_type": "execute_result"
    }
   ],
   "source": [
    "df"
   ],
   "metadata": {
    "collapsed": false,
    "ExecuteTime": {
     "end_time": "2023-09-23T21:33:02.072793Z",
     "start_time": "2023-09-23T21:33:02.025919100Z"
    }
   }
  },
  {
   "cell_type": "code",
   "execution_count": 68,
   "outputs": [
    {
     "data": {
      "text/plain": "                              artista                      id  \\\n0                     A-Tirador Láser  7pHZKUfpbFMZoMaBOg2jwH   \n1                        A.N.I.M.A.L.  6eoz7BtTcC5Q303xQtSgj9   \n2                         Abril a Mil  0X9HIxFmynjrSOzbBv7uoM   \n3                             Abterno  1iXLcpr2SlUwrU2oCP8nI9   \n4                  Acorazado Potemkin  4QDSqX4vtsftXfEAlKBVXR   \n...                               ...                     ...   \n1791                           yacare  0G6VQf773ZIIYkKs8QnW1V   \n1792                         yaguaron  1CajkwEgJac9j9alNJJxTQ   \n1793                           yaravi  0g3UV4KTsBXySBgxKtNUFG   \n1794                      yelma baldi  7kwCkEJ384PWm0UQW3hxjS   \n1795  Él Mató a un Policía Motorizado  5rLsN2LxYaEPLa1N7I2mPB   \n\n      popularidad_spotify  \n0                     6.0  \n1                    35.0  \n2                     0.0  \n3                    38.0  \n4                    14.0  \n...                   ...  \n1791                 21.0  \n1792                 62.0  \n1793                 45.0  \n1794                 50.0  \n1795                 58.0  \n\n[1796 rows x 3 columns]",
      "text/html": "<div>\n<style scoped>\n    .dataframe tbody tr th:only-of-type {\n        vertical-align: middle;\n    }\n\n    .dataframe tbody tr th {\n        vertical-align: top;\n    }\n\n    .dataframe thead th {\n        text-align: right;\n    }\n</style>\n<table border=\"1\" class=\"dataframe\">\n  <thead>\n    <tr style=\"text-align: right;\">\n      <th></th>\n      <th>artista</th>\n      <th>id</th>\n      <th>popularidad_spotify</th>\n    </tr>\n  </thead>\n  <tbody>\n    <tr>\n      <th>0</th>\n      <td>A-Tirador Láser</td>\n      <td>7pHZKUfpbFMZoMaBOg2jwH</td>\n      <td>6.0</td>\n    </tr>\n    <tr>\n      <th>1</th>\n      <td>A.N.I.M.A.L.</td>\n      <td>6eoz7BtTcC5Q303xQtSgj9</td>\n      <td>35.0</td>\n    </tr>\n    <tr>\n      <th>2</th>\n      <td>Abril a Mil</td>\n      <td>0X9HIxFmynjrSOzbBv7uoM</td>\n      <td>0.0</td>\n    </tr>\n    <tr>\n      <th>3</th>\n      <td>Abterno</td>\n      <td>1iXLcpr2SlUwrU2oCP8nI9</td>\n      <td>38.0</td>\n    </tr>\n    <tr>\n      <th>4</th>\n      <td>Acorazado Potemkin</td>\n      <td>4QDSqX4vtsftXfEAlKBVXR</td>\n      <td>14.0</td>\n    </tr>\n    <tr>\n      <th>...</th>\n      <td>...</td>\n      <td>...</td>\n      <td>...</td>\n    </tr>\n    <tr>\n      <th>1791</th>\n      <td>yacare</td>\n      <td>0G6VQf773ZIIYkKs8QnW1V</td>\n      <td>21.0</td>\n    </tr>\n    <tr>\n      <th>1792</th>\n      <td>yaguaron</td>\n      <td>1CajkwEgJac9j9alNJJxTQ</td>\n      <td>62.0</td>\n    </tr>\n    <tr>\n      <th>1793</th>\n      <td>yaravi</td>\n      <td>0g3UV4KTsBXySBgxKtNUFG</td>\n      <td>45.0</td>\n    </tr>\n    <tr>\n      <th>1794</th>\n      <td>yelma baldi</td>\n      <td>7kwCkEJ384PWm0UQW3hxjS</td>\n      <td>50.0</td>\n    </tr>\n    <tr>\n      <th>1795</th>\n      <td>Él Mató a un Policía Motorizado</td>\n      <td>5rLsN2LxYaEPLa1N7I2mPB</td>\n      <td>58.0</td>\n    </tr>\n  </tbody>\n</table>\n<p>1796 rows × 3 columns</p>\n</div>"
     },
     "execution_count": 68,
     "metadata": {},
     "output_type": "execute_result"
    }
   ],
   "source": [
    "id.drop(columns=\"artista\").reset_index()"
   ],
   "metadata": {
    "collapsed": false,
    "ExecuteTime": {
     "end_time": "2023-09-23T21:34:48.516153300Z",
     "start_time": "2023-09-23T21:34:48.500529100Z"
    }
   }
  },
  {
   "cell_type": "code",
   "execution_count": 71,
   "outputs": [],
   "source": [
    "merge.to_excel(r\"C:\\Users\\PC\\Desktop\\Popularidad_canciones_completo.xlsx\")\n"
   ],
   "metadata": {
    "collapsed": false,
    "ExecuteTime": {
     "end_time": "2023-09-23T21:35:51.724307Z",
     "start_time": "2023-09-23T21:35:45.891791200Z"
    }
   }
  },
  {
   "cell_type": "code",
   "execution_count": null,
   "outputs": [],
   "source": [],
   "metadata": {
    "collapsed": false
   }
  }
 ],
 "metadata": {
  "kernelspec": {
   "display_name": "Python 3",
   "language": "python",
   "name": "python3"
  },
  "language_info": {
   "codemirror_mode": {
    "name": "ipython",
    "version": 2
   },
   "file_extension": ".py",
   "mimetype": "text/x-python",
   "name": "python",
   "nbconvert_exporter": "python",
   "pygments_lexer": "ipython2",
   "version": "2.7.6"
  }
 },
 "nbformat": 4,
 "nbformat_minor": 0
}
